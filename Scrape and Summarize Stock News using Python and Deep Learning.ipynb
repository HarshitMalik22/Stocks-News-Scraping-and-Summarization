{
 "cells": [
  {
   "cell_type": "code",
   "execution_count": 88,
   "id": "95ed3dd4",
   "metadata": {},
   "outputs": [
    {
     "name": "stdout",
     "output_type": "stream",
     "text": [
      "Requirement already satisfied: transformers in c:\\users\\dell\\anaconda3\\lib\\site-packages (4.42.4)\n",
      "Requirement already satisfied: filelock in c:\\users\\dell\\anaconda3\\lib\\site-packages (from transformers) (3.15.4)\n",
      "Requirement already satisfied: huggingface-hub<1.0,>=0.23.2 in c:\\users\\dell\\anaconda3\\lib\\site-packages (from transformers) (0.23.5)\n",
      "Requirement already satisfied: numpy<2.0,>=1.17 in c:\\users\\dell\\anaconda3\\lib\\site-packages (from transformers) (1.26.4)\n",
      "Requirement already satisfied: packaging>=20.0 in c:\\users\\dell\\anaconda3\\lib\\site-packages (from transformers) (23.1)\n",
      "Requirement already satisfied: pyyaml>=5.1 in c:\\users\\dell\\anaconda3\\lib\\site-packages (from transformers) (6.0)\n",
      "Requirement already satisfied: regex!=2019.12.17 in c:\\users\\dell\\anaconda3\\lib\\site-packages (from transformers) (2022.7.9)\n",
      "Requirement already satisfied: requests in c:\\users\\dell\\anaconda3\\lib\\site-packages (from transformers) (2.31.0)\n",
      "Requirement already satisfied: safetensors>=0.4.1 in c:\\users\\dell\\anaconda3\\lib\\site-packages (from transformers) (0.4.3)\n",
      "Requirement already satisfied: tokenizers<0.20,>=0.19 in c:\\users\\dell\\anaconda3\\lib\\site-packages (from transformers) (0.19.1)\n",
      "Requirement already satisfied: tqdm>=4.27 in c:\\users\\dell\\anaconda3\\lib\\site-packages (from transformers) (4.65.0)\n",
      "Requirement already satisfied: fsspec>=2023.5.0 in c:\\users\\dell\\anaconda3\\lib\\site-packages (from huggingface-hub<1.0,>=0.23.2->transformers) (2024.6.1)\n",
      "Requirement already satisfied: typing-extensions>=3.7.4.3 in c:\\users\\dell\\anaconda3\\lib\\site-packages (from huggingface-hub<1.0,>=0.23.2->transformers) (4.12.2)\n",
      "Requirement already satisfied: colorama in c:\\users\\dell\\anaconda3\\lib\\site-packages (from tqdm>=4.27->transformers) (0.4.6)\n",
      "Requirement already satisfied: charset-normalizer<4,>=2 in c:\\users\\dell\\anaconda3\\lib\\site-packages (from requests->transformers) (2.0.4)\n",
      "Requirement already satisfied: idna<4,>=2.5 in c:\\users\\dell\\anaconda3\\lib\\site-packages (from requests->transformers) (3.4)\n",
      "Requirement already satisfied: urllib3<3,>=1.21.1 in c:\\users\\dell\\anaconda3\\lib\\site-packages (from requests->transformers) (1.26.16)\n",
      "Requirement already satisfied: certifi>=2017.4.17 in c:\\users\\dell\\anaconda3\\lib\\site-packages (from requests->transformers) (2024.2.2)\n"
     ]
    }
   ],
   "source": [
    "\n",
    "!pip install transformers"
   ]
  },
  {
   "cell_type": "code",
   "execution_count": 89,
   "id": "24edaf37",
   "metadata": {},
   "outputs": [
    {
     "name": "stdout",
     "output_type": "stream",
     "text": [
      "Requirement already satisfied: sentencepiece in c:\\users\\dell\\anaconda3\\lib\\site-packages (0.2.0)\n"
     ]
    }
   ],
   "source": [
    "from transformers import PegasusTokenizer, PegasusForConditionalGeneration\n",
    "from bs4 import BeautifulSoup\n",
    "import requests\n",
    "!pip install sentencepiece\n",
    "import sentencepiece\n",
    "\n"
   ]
  },
  {
   "cell_type": "markdown",
   "id": "92124422",
   "metadata": {},
   "source": [
    "# 2. Setup Summarization Model"
   ]
  },
  {
   "cell_type": "code",
   "execution_count": 90,
   "id": "299b89fe",
   "metadata": {},
   "outputs": [
    {
     "name": "stderr",
     "output_type": "stream",
     "text": [
      "Some weights of PegasusForConditionalGeneration were not initialized from the model checkpoint at human-centered-summarization/financial-summarization-pegasus and are newly initialized: ['model.decoder.embed_positions.weight', 'model.encoder.embed_positions.weight']\n",
      "You should probably TRAIN this model on a down-stream task to be able to use it for predictions and inference.\n"
     ]
    }
   ],
   "source": [
    "model_name = \"human-centered-summarization/financial-summarization-pegasus\"\n",
    "tokenizer = PegasusTokenizer.from_pretrained(model_name)\n",
    "model = PegasusForConditionalGeneration.from_pretrained(model_name)"
   ]
  },
  {
   "cell_type": "code",
   "execution_count": 91,
   "id": "ed935c22",
   "metadata": {},
   "outputs": [
    {
     "name": "stderr",
     "output_type": "stream",
     "text": [
      "Some weights of PegasusForConditionalGeneration were not initialized from the model checkpoint at human-centered-summarization/financial-summarization-pegasus and are newly initialized: ['model.decoder.embed_positions.weight', 'model.encoder.embed_positions.weight']\n",
      "You should probably TRAIN this model on a down-stream task to be able to use it for predictions and inference.\n"
     ]
    }
   ],
   "source": [
    "import os\n",
    "\n",
    "# Disable the symlink warning\n",
    "os.environ['HF_HUB_DISABLE_SYMLINKS_WARNING'] = '1'\n",
    "\n",
    "import requests\n",
    "from transformers import PegasusForConditionalGeneration\n",
    "\n",
    "# Your model loading code here\n",
    "model = PegasusForConditionalGeneration.from_pretrained(\"human-centered-summarization/financial-summarization-pegasus\")\n"
   ]
  },
  {
   "cell_type": "code",
   "execution_count": null,
   "id": "eeb95942",
   "metadata": {},
   "outputs": [],
   "source": []
  },
  {
   "cell_type": "markdown",
   "id": "64abc218",
   "metadata": {},
   "source": [
    "# 3. Summarize a Single Article"
   ]
  },
  {
   "cell_type": "code",
   "execution_count": 92,
   "id": "b1b6ea21",
   "metadata": {},
   "outputs": [],
   "source": [
    "url = \"https://techcrunch.com/2024/07/15/elon-musk-confirms-tesla-robotaxi-event-delayed-design-change/\"\n",
    "r = requests.get(url)\n",
    "soup = BeautifulSoup(r.text, 'html.parser')\n",
    "paragraphs = soup.find_all('p')\n"
   ]
  },
  {
   "cell_type": "code",
   "execution_count": 93,
   "id": "1a1d775a",
   "metadata": {
    "scrolled": true
   },
   "outputs": [
    {
     "data": {
      "text/plain": [
       "'Tesla CEO Elon Musk confirmed Monday earlier reports the company was delaying its robotaxi reveal, explaining it was because he requested an “important design change to the front.” '"
      ]
     },
     "execution_count": 93,
     "metadata": {},
     "output_type": "execute_result"
    }
   ],
   "source": [
    "paragraphs[1].text"
   ]
  },
  {
   "cell_type": "code",
   "execution_count": 94,
   "id": "60768f50",
   "metadata": {},
   "outputs": [],
   "source": [
    "text = [paragraph.text for paragraph in paragraphs]\n",
    "words = ''.join(text).split(' ')[:400]\n",
    "ARTICLE = ' '.join(words)"
   ]
  },
  {
   "cell_type": "code",
   "execution_count": 95,
   "id": "e377c733",
   "metadata": {},
   "outputs": [
    {
     "data": {
      "text/plain": [
       "'CommentTesla CEO Elon Musk confirmed Monday earlier reports the company was delaying its robotaxi reveal, explaining it was because he requested an “important design change to the front.” Bloomberg News reported last week Tesla was pushing the event to October. It had been aiming for an August 8 event. The company did not immediately respond to a request for comment. Tesla shares fell more than 6% immediately following the report, but have since recovered.Musk responded to a question posed in a post on X, the social media network he owns, explaining the reason for the delay. “Requested what I think is an important design change to the front, and extra time allows us to show off a few other things,” he wrote.Musk first teased the robotaxi event in April, on the same day that Reuters reported the company was shelving plans for a new vehicle built on a next-generation platform that would cost around $25,000. Musk denied that report on his social media platform X.Tesla had internally planned to build the dedicated robotaxi and the $25,000 car — often referred to as the Model 2 by fans and watchers of the company — on the same platform. But Musk has waffled on the idea of building a new vehicle with a steering wheel and pedals and instead has favored going all-in on the robotaxi.Just a few weeks after Musk announced the robotaxi event, he slashed more than 10% of Tesla’s global workforce and said the company was going “balls to the wall for autonomy.”Musk has a history of announcing things to the public that many of his own employees aren’t aware of, forcing them to scramble. In February, he posted on X about how the long-delayed second generation Tesla Roadster is going to be capable\\xa0of going even faster than originally promised — an announcement that surprised the Roadster development team, according to The Information.Musk’s robotaxi event announcement similarly took employees by surprise, according to one person familiar with the matter, who agreed to speak on the condition of anonymity. Every weekday and Sunday, you can get the best of TechCrunch’s coverage.Startups are the core of TechCrunch, so get our best coverage delivered weekly.The latest Fintech news and analysis, delivered every Tuesday.TechCrunch Mobility is your destination for transportation news and insight.By submitting your email, you agree to our Terms and Privacy Notice.\\n\\t\\t\\tFeatured ArticleSecurity giant CrowdStrike said the outage was not caused'"
      ]
     },
     "execution_count": 95,
     "metadata": {},
     "output_type": "execute_result"
    }
   ],
   "source": [
    "ARTICLE"
   ]
  },
  {
   "cell_type": "code",
   "execution_count": 96,
   "id": "b6d92376",
   "metadata": {},
   "outputs": [],
   "source": [
    "input_ids = tokenizer.encode(ARTICLE, return_tensors = 'pt')\n",
    "output = model.generate(input_ids, max_length=55,num_beams=5, early_stopping = True)\n",
    "summary = tokenizer.decode(output[0],skip_special_tokens=True)"
   ]
  },
  {
   "cell_type": "code",
   "execution_count": 97,
   "id": "c20d7ac2",
   "metadata": {},
   "outputs": [
    {
     "data": {
      "text/plain": [
       "'Musk says he requested ‘important design change to the front’. Tesla had been aiming for August 8 event'"
      ]
     },
     "execution_count": 97,
     "metadata": {},
     "output_type": "execute_result"
    }
   ],
   "source": [
    "summary"
   ]
  },
  {
   "cell_type": "markdown",
   "id": "75b3a13e",
   "metadata": {},
   "source": [
    "# 4. Building a News and Sentiment Analysis"
   ]
  },
  {
   "cell_type": "code",
   "execution_count": 98,
   "id": "90de2b32",
   "metadata": {},
   "outputs": [],
   "source": [
    "monitored_tickers = ['GME', 'TSLA', 'BTC'] "
   ]
  },
  {
   "cell_type": "markdown",
   "id": "08c2c152",
   "metadata": {},
   "source": [
    "# 4.1 Search for stock news using google and yahoo finance"
   ]
  },
  {
   "cell_type": "code",
   "execution_count": 99,
   "id": "4eb5b172",
   "metadata": {},
   "outputs": [],
   "source": [
    "def search_for_stock_news_urls(ticker):\n",
    "        search_url = \"https://www.google.com/search?q=yahoo+finance+{}&tbm=nws\".format(ticker)\n",
    "        r = requests.get(search_url)\n",
    "        soup = BeautifulSoup(r.text, 'html.parser')\n",
    "        atags = soup.find_all('a')\n",
    "        hrefs = [link['href']for link in atags]\n",
    "        return hrefs"
   ]
  },
  {
   "cell_type": "code",
   "execution_count": 100,
   "id": "890ccadc",
   "metadata": {},
   "outputs": [
    {
     "data": {
      "text/plain": [
       "{'GME': ['/?sa=X&ved=0ahUKEwi-7ofXmrWHAxUdpZUCHfPmA-oQOwgC',\n",
       "  '/search?q=yahoo+finance+GME&sca_esv=d28cac85abca5345&ie=UTF-8&tbm=nws&gbv=1&sei=XXabZv7LNZ3K1sQP882P0A4',\n",
       "  '/search?q=yahoo+finance+GME&sca_esv=d28cac85abca5345&ie=UTF-8&source=lnms&sa=X&ved=0ahUKEwi-7ofXmrWHAxUdpZUCHfPmA-oQ_AUIBSgA',\n",
       "  '/search?q=yahoo+finance+GME&sca_esv=d28cac85abca5345&ie=UTF-8&tbm=vid&source=lnms&sa=X&ved=0ahUKEwi-7ofXmrWHAxUdpZUCHfPmA-oQ_AUIBygC',\n",
       "  '/search?q=yahoo+finance+GME&sca_esv=d28cac85abca5345&ie=UTF-8&tbm=bks&source=lnms&sa=X&ved=0ahUKEwi-7ofXmrWHAxUdpZUCHfPmA-oQ_AUICCgD',\n",
       "  '/search?q=yahoo+finance+GME&sca_esv=d28cac85abca5345&ie=UTF-8&tbm=isch&source=lnms&sa=X&ved=0ahUKEwi-7ofXmrWHAxUdpZUCHfPmA-oQ_AUICSgE',\n",
       "  '/url?q=https://maps.google.com/maps%3Fq%3Dyahoo%2Bfinance%2BGME%26um%3D1%26ie%3DUTF-8%26ved%3D1t:200713%26ictx%3D111&opi=89978449&sa=U&ved=0ahUKEwi-7ofXmrWHAxUdpZUCHfPmA-oQiaAMCAooBQ&usg=AOvVaw2Txc_uPrdZmyIs9pLeIoAG',\n",
       "  '/url?q=/search%3Fq%3Dyahoo%2Bfinance%2BGME%26sca_esv%3Dd28cac85abca5345%26ie%3DUTF-8%26tbm%3Dshop%26source%3Dlnms%26ved%3D1t:200713%26ictx%3D111&opi=89978449&sa=U&ved=0ahUKEwi-7ofXmrWHAxUdpZUCHfPmA-oQiaAMCAsoBg&usg=AOvVaw2jvAyFDIh_OXO6Ma1Dcr4P',\n",
       "  '/advanced_search',\n",
       "  '/search?q=yahoo+finance+GME&sca_esv=d28cac85abca5345&ie=UTF-8&tbm=nws&source=lnt&tbs=qdr:h&sa=X&ved=0ahUKEwi-7ofXmrWHAxUdpZUCHfPmA-oQpwUIDQ',\n",
       "  '/search?q=yahoo+finance+GME&sca_esv=d28cac85abca5345&ie=UTF-8&tbm=nws&source=lnt&tbs=qdr:d&sa=X&ved=0ahUKEwi-7ofXmrWHAxUdpZUCHfPmA-oQpwUIDg',\n",
       "  '/search?q=yahoo+finance+GME&sca_esv=d28cac85abca5345&ie=UTF-8&tbm=nws&source=lnt&tbs=qdr:w&sa=X&ved=0ahUKEwi-7ofXmrWHAxUdpZUCHfPmA-oQpwUIDw',\n",
       "  '/search?q=yahoo+finance+GME&sca_esv=d28cac85abca5345&ie=UTF-8&tbm=nws&source=lnt&tbs=qdr:m&sa=X&ved=0ahUKEwi-7ofXmrWHAxUdpZUCHfPmA-oQpwUIEA',\n",
       "  '/search?q=yahoo+finance+GME&sca_esv=d28cac85abca5345&ie=UTF-8&tbm=nws&source=lnt&tbs=qdr:y&sa=X&ved=0ahUKEwi-7ofXmrWHAxUdpZUCHfPmA-oQpwUIEQ',\n",
       "  '/search?q=yahoo+finance+GME&sca_esv=d28cac85abca5345&ie=UTF-8&tbm=nws&source=lnt&tbs=ar:1&sa=X&ved=0ahUKEwi-7ofXmrWHAxUdpZUCHfPmA-oQpwUIEg',\n",
       "  '/search?q=yahoo+finance+GME&sca_esv=d28cac85abca5345&ie=UTF-8&tbm=nws&source=lnt&tbs=sbd:1&sa=X&ved=0ahUKEwi-7ofXmrWHAxUdpZUCHfPmA-oQpwUIFA',\n",
       "  '/url?q=https://finance.yahoo.com/news/gamestop-gme-rises-higher-market-214519002.html&sa=U&ved=2ahUKEwi-7ofXmrWHAxUdpZUCHfPmA-oQxfQBegQIAhAC&usg=AOvVaw2mJ3i3VLfQuOw_3UEBG3kf',\n",
       "  '/url?q=https://finance.yahoo.com/news/gamestop-gme-down-13-month-124300979.html&sa=U&ved=2ahUKEwi-7ofXmrWHAxUdpZUCHfPmA-oQxfQBegQICRAC&usg=AOvVaw2Zh7nZytUaSKdWdq8hzYyy',\n",
       "  '/url?q=https://finance.yahoo.com/news/gamestop-stock-nyse-gme-game-000228694.html&sa=U&ved=2ahUKEwi-7ofXmrWHAxUdpZUCHfPmA-oQxfQBegQIARAC&usg=AOvVaw3QbKrInIjsWDg0VfvIKFV9',\n",
       "  '/url?q=https://finance.yahoo.com/news/why-gamestop-gme-shares-trading-151315370.html&sa=U&ved=2ahUKEwi-7ofXmrWHAxUdpZUCHfPmA-oQxfQBegQIABAC&usg=AOvVaw1U_tEP-J_JDx6wkT8QUzU3',\n",
       "  '/url?q=https://finance.yahoo.com/news/gamestops-gme-preliminary-results-highlight-160700244.html&sa=U&ved=2ahUKEwi-7ofXmrWHAxUdpZUCHfPmA-oQxfQBegQIBxAC&usg=AOvVaw031MlPCpsom-TVc9dJ27Yc',\n",
       "  '/url?q=https://finance.yahoo.com/news/investors-heavily-search-gamestop-corp-130015751.html&sa=U&ved=2ahUKEwi-7ofXmrWHAxUdpZUCHfPmA-oQxfQBegQIBhAC&usg=AOvVaw3WqvXN75O05vv6aEUJz-rz',\n",
       "  '/url?q=https://finance.yahoo.com/news/why-gamestop-gme-stock-trading-153229310.html&sa=U&ved=2ahUKEwi-7ofXmrWHAxUdpZUCHfPmA-oQxfQBegQIAxAC&usg=AOvVaw3Deujovl_2i9tHWzn6tDfw',\n",
       "  '/url?q=https://finance.yahoo.com/news/gamestop-should-ditch-retail-and-become-a-holding-company-like-warren-buffetts-berkshire-hathaway-133106692.html&sa=U&ved=2ahUKEwi-7ofXmrWHAxUdpZUCHfPmA-oQxfQBegQIBRAC&usg=AOvVaw0AoXgJpaSdYecRd-kkH69M',\n",
       "  '/url?q=https://finance.yahoo.com/news/why-gamestop-gme-shares-trading-162132483.html&sa=U&ved=2ahUKEwi-7ofXmrWHAxUdpZUCHfPmA-oQxfQBegQICBAC&usg=AOvVaw2Suv7g_iACkCA40wL_kLes',\n",
       "  '/url?q=https://finance.yahoo.com/news/gamestop-releases-q1-results-ahead-111604723.html&sa=U&ved=2ahUKEwi-7ofXmrWHAxUdpZUCHfPmA-oQxfQBegQIBBAC&usg=AOvVaw3PNQGeYzSUEPDeGGzFGi9g',\n",
       "  '/search?q=yahoo+finance+GME&sca_esv=d28cac85abca5345&ie=UTF-8&tbm=nws&ei=XXabZv7LNZ3K1sQP882P0A4&start=10&sa=N',\n",
       "  '/url?q=https://support.google.com/websearch%3Fp%3Dws_settings_location%26hl%3Den-IN&opi=89978449&sa=U&ved=0ahUKEwi-7ofXmrWHAxUdpZUCHfPmA-oQty4IUw&usg=AOvVaw16E8BZoqUYohoU7hEJXWYv',\n",
       "  '/url?q=https://accounts.google.com/ServiceLogin%3Fcontinue%3Dhttps://www.google.com/search%253Fq%253Dyahoo%252Bfinance%252BGME%2526tbm%253Dnws%26hl%3Den&opi=89978449&sa=U&ved=0ahUKEwi-7ofXmrWHAxUdpZUCHfPmA-oQxs8CCFQ&usg=AOvVaw1rZHgsO5gFiV0AsLXbfK6s',\n",
       "  'https://www.google.com/preferences?hl=en-IN&fg=1&sa=X&ved=0ahUKEwi-7ofXmrWHAxUdpZUCHfPmA-oQ5fUCCFU',\n",
       "  'https://policies.google.com/privacy?hl=en-IN&fg=1',\n",
       "  'https://policies.google.com/terms?hl=en-IN&fg=1',\n",
       "  '/setprefs?hl=en&prev=https://www.google.com/search?q%3Dyahoo%2Bfinance%2BGME%26tbm%3Dnws%26pccc%3D1&sig=0_1LxhD71tbq3UlqoOIBlsrB2B1XY%3D&cs=2&sa=X&ved=0ahUKEwi-7ofXmrWHAxUdpZUCHfPmA-oQjcAJCFY'],\n",
       " 'TSLA': ['/?sa=X&ved=0ahUKEwiYkNrXmrWHAxWzr5UCHV1yBzwQOwgC',\n",
       "  '/search?q=yahoo+finance+TSLA&sca_esv=d28cac85abca5345&sca_upv=1&ie=UTF-8&tbm=nws&gbv=1&sei=X3abZtjkDbPf1sQP3eSd4AM',\n",
       "  '/search?q=yahoo+finance+TSLA&sca_esv=d28cac85abca5345&sca_upv=1&ie=UTF-8&source=lnms&sa=X&ved=0ahUKEwiYkNrXmrWHAxWzr5UCHV1yBzwQ_AUIBSgA',\n",
       "  '/search?q=yahoo+finance+TSLA&sca_esv=d28cac85abca5345&sca_upv=1&ie=UTF-8&tbm=vid&source=lnms&sa=X&ved=0ahUKEwiYkNrXmrWHAxWzr5UCHV1yBzwQ_AUIBygC',\n",
       "  '/search?q=yahoo+finance+TSLA&sca_esv=d28cac85abca5345&sca_upv=1&ie=UTF-8&tbm=isch&source=lnms&sa=X&ved=0ahUKEwiYkNrXmrWHAxWzr5UCHV1yBzwQ_AUICCgD',\n",
       "  '/url?q=https://maps.google.com/maps%3Fq%3Dyahoo%2Bfinance%2BTSLA%26um%3D1%26ie%3DUTF-8%26ved%3D1t:200713%26ictx%3D111&opi=89978449&sa=U&ved=0ahUKEwiYkNrXmrWHAxWzr5UCHV1yBzwQiaAMCAkoBA&usg=AOvVaw129X5atVO1mQdSY-4I5Wbb',\n",
       "  '/url?q=/search%3Fq%3Dyahoo%2Bfinance%2BTSLA%26sca_esv%3Dd28cac85abca5345%26sca_upv%3D1%26ie%3DUTF-8%26tbm%3Dshop%26source%3Dlnms%26ved%3D1t:200713%26ictx%3D111&opi=89978449&sa=U&ved=0ahUKEwiYkNrXmrWHAxWzr5UCHV1yBzwQiaAMCAooBQ&usg=AOvVaw04EnHyu3fWX6agiBmpTssO',\n",
       "  '/search?q=yahoo+finance+TSLA&sca_esv=d28cac85abca5345&sca_upv=1&ie=UTF-8&tbm=bks&source=lnms&sa=X&ved=0ahUKEwiYkNrXmrWHAxWzr5UCHV1yBzwQ_AUICygG',\n",
       "  '/advanced_search',\n",
       "  '/search?q=yahoo+finance+TSLA&sca_esv=d28cac85abca5345&sca_upv=1&ie=UTF-8&tbm=nws&source=lnt&tbs=qdr:h&sa=X&ved=0ahUKEwiYkNrXmrWHAxWzr5UCHV1yBzwQpwUIDQ',\n",
       "  '/search?q=yahoo+finance+TSLA&sca_esv=d28cac85abca5345&sca_upv=1&ie=UTF-8&tbm=nws&source=lnt&tbs=qdr:d&sa=X&ved=0ahUKEwiYkNrXmrWHAxWzr5UCHV1yBzwQpwUIDg',\n",
       "  '/search?q=yahoo+finance+TSLA&sca_esv=d28cac85abca5345&sca_upv=1&ie=UTF-8&tbm=nws&source=lnt&tbs=qdr:w&sa=X&ved=0ahUKEwiYkNrXmrWHAxWzr5UCHV1yBzwQpwUIDw',\n",
       "  '/search?q=yahoo+finance+TSLA&sca_esv=d28cac85abca5345&sca_upv=1&ie=UTF-8&tbm=nws&source=lnt&tbs=qdr:m&sa=X&ved=0ahUKEwiYkNrXmrWHAxWzr5UCHV1yBzwQpwUIEA',\n",
       "  '/search?q=yahoo+finance+TSLA&sca_esv=d28cac85abca5345&sca_upv=1&ie=UTF-8&tbm=nws&source=lnt&tbs=qdr:y&sa=X&ved=0ahUKEwiYkNrXmrWHAxWzr5UCHV1yBzwQpwUIEQ',\n",
       "  '/search?q=yahoo+finance+TSLA&sca_esv=d28cac85abca5345&sca_upv=1&ie=UTF-8&tbm=nws&source=lnt&tbs=ar:1&sa=X&ved=0ahUKEwiYkNrXmrWHAxWzr5UCHV1yBzwQpwUIEg',\n",
       "  '/search?q=yahoo+finance+TSLA&sca_esv=d28cac85abca5345&sca_upv=1&ie=UTF-8&tbm=nws&source=lnt&tbs=sbd:1&sa=X&ved=0ahUKEwiYkNrXmrWHAxWzr5UCHV1yBzwQpwUIFA',\n",
       "  '/url?q=https://finance.yahoo.com/news/tesla-inc-nasdaq-tsla-stocks-130014699.html&sa=U&ved=2ahUKEwiYkNrXmrWHAxWzr5UCHV1yBzwQxfQBegQIAhAC&usg=AOvVaw1E2-Ye7AOL6fvA5mJl1zUa',\n",
       "  '/url?q=https://finance.yahoo.com/news/tesla-stock-surge-10-fold-000001701.html&sa=U&ved=2ahUKEwiYkNrXmrWHAxWzr5UCHV1yBzwQxfQBegQICRAC&usg=AOvVaw3lEoa5ZnYLy95fSC19JSkR',\n",
       "  '/url?q=https://finance.yahoo.com/news/live/stock-market-today-stocks-fall-from-records-as-tesla-nvidia-lead-tech-sell-off-200114295.html&sa=U&ved=2ahUKEwiYkNrXmrWHAxWzr5UCHV1yBzwQxfQBegQIARAC&usg=AOvVaw36tI3LimP31gckXzD6p0NE',\n",
       "  '/url?q=https://finance.yahoo.com/news/tesla-stock-notches-9th-straight-day-of-gains-201451600.html&sa=U&ved=2ahUKEwiYkNrXmrWHAxWzr5UCHV1yBzwQxfQBegQIABAC&usg=AOvVaw2BP2AzWuk3hZxXCHUZ-Lb-',\n",
       "  '/url?q=https://finance.yahoo.com/news/tesla-stock-surges-as-quarterly-vehicle-deliveries-beat-wall-street-estimates-201123452.html&sa=U&ved=2ahUKEwiYkNrXmrWHAxWzr5UCHV1yBzwQxfQBegQIAxAC&usg=AOvVaw30kziCH8e-Tk8ENGjYltJ5',\n",
       "  '/url?q=https://finance.yahoo.com/news/teslas-valuation-is-turning-heads-chart-of-the-week-100642187.html&sa=U&ved=2ahUKEwiYkNrXmrWHAxWzr5UCHV1yBzwQxfQBegQICBAC&usg=AOvVaw2tHQayoBfoIUf7LJXdE9eH',\n",
       "  '/url?q=https://finance.yahoo.com/news/behind-tesla-stock-nasdaq-tsla-073001274.html&sa=U&ved=2ahUKEwiYkNrXmrWHAxWzr5UCHV1yBzwQxfQBegQIBhAC&usg=AOvVaw0PKkpgPxi7p8Tasih5kBnI',\n",
       "  '/url?q=https://finance.yahoo.com/news/tesla-stock-nasdaq-tsla-comeback-010835403.html&sa=U&ved=2ahUKEwiYkNrXmrWHAxWzr5UCHV1yBzwQxfQBegQIBBAC&usg=AOvVaw30zWSgWskugyb6tgs1VnHO',\n",
       "  '/url?q=https://finance.yahoo.com/news/jim-cramer-tesla-inc-nasdaq-120919586.html&sa=U&ved=2ahUKEwiYkNrXmrWHAxWzr5UCHV1yBzwQxfQBegQIBRAC&usg=AOvVaw0pOiWxNbwF1Po8LmRvtd-g',\n",
       "  '/url?q=https://finance.yahoo.com/video/tesla-investors-shouldnt-fret-robotaxi-214539400.html&sa=U&ved=2ahUKEwiYkNrXmrWHAxWzr5UCHV1yBzwQxfQBegQIBxAC&usg=AOvVaw33dpMkw4zyq3_HLC52suDP',\n",
       "  '/search?q=yahoo+finance+TSLA&sca_esv=d28cac85abca5345&sca_upv=1&ie=UTF-8&tbm=nws&ei=X3abZtjkDbPf1sQP3eSd4AM&start=10&sa=N',\n",
       "  '/url?q=https://support.google.com/websearch%3Fp%3Dws_settings_location%26hl%3Den-IN&opi=89978449&sa=U&ved=0ahUKEwiYkNrXmrWHAxWzr5UCHV1yBzwQty4IUw&usg=AOvVaw1xpVpQtuaeSIEdi76GosjY',\n",
       "  '/url?q=https://accounts.google.com/ServiceLogin%3Fcontinue%3Dhttps://www.google.com/search%253Fq%253Dyahoo%252Bfinance%252BTSLA%2526tbm%253Dnws%26hl%3Den&opi=89978449&sa=U&ved=0ahUKEwiYkNrXmrWHAxWzr5UCHV1yBzwQxs8CCFQ&usg=AOvVaw3YlFUclnrraG9BOTsneEhJ',\n",
       "  'https://www.google.com/preferences?hl=en-IN&fg=1&sa=X&ved=0ahUKEwiYkNrXmrWHAxWzr5UCHV1yBzwQ5fUCCFU',\n",
       "  'https://policies.google.com/privacy?hl=en-IN&fg=1',\n",
       "  'https://policies.google.com/terms?hl=en-IN&fg=1',\n",
       "  '/setprefs?hl=en&prev=https://www.google.com/search?q%3Dyahoo%2Bfinance%2BTSLA%26tbm%3Dnws%26pccc%3D1&sig=0_7IzHA6O1EMmUytnzxZnKQJBXTJ0%3D&cs=2&sa=X&ved=0ahUKEwiYkNrXmrWHAxWzr5UCHV1yBzwQjcAJCFY'],\n",
       " 'BTC': ['/?sa=X&ved=0ahUKEwjDg7PYmrWHAxXrp5UCHeFsD1wQOwgC',\n",
       "  '/search?q=yahoo+finance+BTC&sca_esv=d28cac85abca5345&sca_upv=1&ie=UTF-8&tbm=nws&gbv=1&sei=YHabZsPTKevP1sQP4dm94AU',\n",
       "  '/search?q=yahoo+finance+BTC&sca_esv=d28cac85abca5345&sca_upv=1&ie=UTF-8&source=lnms&sa=X&ved=0ahUKEwjDg7PYmrWHAxXrp5UCHeFsD1wQ_AUIBSgA',\n",
       "  '/search?q=yahoo+finance+BTC&sca_esv=d28cac85abca5345&sca_upv=1&ie=UTF-8&tbm=isch&source=lnms&sa=X&ved=0ahUKEwjDg7PYmrWHAxXrp5UCHeFsD1wQ_AUIBygC',\n",
       "  '/search?q=yahoo+finance+BTC&sca_esv=d28cac85abca5345&sca_upv=1&ie=UTF-8&tbm=vid&source=lnms&sa=X&ved=0ahUKEwjDg7PYmrWHAxXrp5UCHeFsD1wQ_AUICCgD',\n",
       "  '/url?q=https://maps.google.com/maps%3Fq%3Dyahoo%2Bfinance%2BBTC%26um%3D1%26ie%3DUTF-8%26ved%3D1t:200713%26ictx%3D111&opi=89978449&sa=U&ved=0ahUKEwjDg7PYmrWHAxXrp5UCHeFsD1wQiaAMCAkoBA&usg=AOvVaw2HSFXejUzl87u03V826QfD',\n",
       "  '/url?q=/search%3Fq%3Dyahoo%2Bfinance%2BBTC%26sca_esv%3Dd28cac85abca5345%26sca_upv%3D1%26ie%3DUTF-8%26tbm%3Dshop%26source%3Dlnms%26ved%3D1t:200713%26ictx%3D111&opi=89978449&sa=U&ved=0ahUKEwjDg7PYmrWHAxXrp5UCHeFsD1wQiaAMCAooBQ&usg=AOvVaw0Vt498irhXtwE-P5U479v2',\n",
       "  '/search?q=yahoo+finance+BTC&sca_esv=d28cac85abca5345&sca_upv=1&ie=UTF-8&tbm=bks&source=lnms&sa=X&ved=0ahUKEwjDg7PYmrWHAxXrp5UCHeFsD1wQ_AUICygG',\n",
       "  '/advanced_search',\n",
       "  '/search?q=yahoo+finance+BTC&sca_esv=d28cac85abca5345&sca_upv=1&ie=UTF-8&tbm=nws&source=lnt&tbs=qdr:h&sa=X&ved=0ahUKEwjDg7PYmrWHAxXrp5UCHeFsD1wQpwUIDQ',\n",
       "  '/search?q=yahoo+finance+BTC&sca_esv=d28cac85abca5345&sca_upv=1&ie=UTF-8&tbm=nws&source=lnt&tbs=qdr:d&sa=X&ved=0ahUKEwjDg7PYmrWHAxXrp5UCHeFsD1wQpwUIDg',\n",
       "  '/search?q=yahoo+finance+BTC&sca_esv=d28cac85abca5345&sca_upv=1&ie=UTF-8&tbm=nws&source=lnt&tbs=qdr:w&sa=X&ved=0ahUKEwjDg7PYmrWHAxXrp5UCHeFsD1wQpwUIDw',\n",
       "  '/search?q=yahoo+finance+BTC&sca_esv=d28cac85abca5345&sca_upv=1&ie=UTF-8&tbm=nws&source=lnt&tbs=qdr:m&sa=X&ved=0ahUKEwjDg7PYmrWHAxXrp5UCHeFsD1wQpwUIEA',\n",
       "  '/search?q=yahoo+finance+BTC&sca_esv=d28cac85abca5345&sca_upv=1&ie=UTF-8&tbm=nws&source=lnt&tbs=qdr:y&sa=X&ved=0ahUKEwjDg7PYmrWHAxXrp5UCHeFsD1wQpwUIEQ',\n",
       "  '/search?q=yahoo+finance+BTC&sca_esv=d28cac85abca5345&sca_upv=1&ie=UTF-8&tbm=nws&source=lnt&tbs=ar:1&sa=X&ved=0ahUKEwjDg7PYmrWHAxXrp5UCHeFsD1wQpwUIEg',\n",
       "  '/search?q=yahoo+finance+BTC&sca_esv=d28cac85abca5345&sca_upv=1&ie=UTF-8&tbm=nws&source=lnt&tbs=sbd:1&sa=X&ved=0ahUKEwjDg7PYmrWHAxXrp5UCHeFsD1wQpwUIFA',\n",
       "  '/url?q=https://finance.yahoo.com/news/4-solid-stocks-gain-bitcoin-132000064.html&sa=U&ved=2ahUKEwjDg7PYmrWHAxXrp5UCHeFsD1wQxfQBegQIBBAC&usg=AOvVaw0lJ3Jratboo2VMHyi4ll40',\n",
       "  '/url?q=https://finance.yahoo.com/news/bitcoin-may-target-71-500-060059796.html&sa=U&ved=2ahUKEwjDg7PYmrWHAxXrp5UCHeFsD1wQxfQBegQICRAC&usg=AOvVaw1b4yNGnGioZ36M1gurVVoe',\n",
       "  '/url?q=https://finance.yahoo.com/video/trump-backs-bitcoin-small-caps-220620606.html&sa=U&ved=2ahUKEwjDg7PYmrWHAxXrp5UCHeFsD1wQxfQBegQIBxAC&usg=AOvVaw1hraMK6DoNIfUOUfJInYyU',\n",
       "  '/url?q=https://finance.yahoo.com/video/bitcoin-rises-above-63-000-203629337.html&sa=U&ved=2ahUKEwjDg7PYmrWHAxXrp5UCHeFsD1wQxfQBegQIAhAC&usg=AOvVaw2-b05bzot0Teesr-0DC0fU',\n",
       "  '/url?q=https://finance.yahoo.com/news/bitcoin-cements-legitimate-status-as-wall-street-struggles-toward-a-new-consensus-morning-brief-100008050.html&sa=U&ved=2ahUKEwjDg7PYmrWHAxXrp5UCHeFsD1wQxfQBegQIARAC&usg=AOvVaw3zBr6zNb-VLTIA3vabQupp',\n",
       "  '/url?q=https://finance.yahoo.com/news/bitcoin-tops-66k-cryptos-rally-174840410.html&sa=U&ved=2ahUKEwjDg7PYmrWHAxXrp5UCHeFsD1wQxfQBegQIBhAC&usg=AOvVaw2oJI_FQ6mdHCeISIpBqEDa',\n",
       "  '/url?q=https://finance.yahoo.com/video/hugh-hendry-bitcoin-triple-why-111300673.html&sa=U&ved=2ahUKEwjDg7PYmrWHAxXrp5UCHeFsD1wQxfQBegQIAxAC&usg=AOvVaw03gCExVi0sr5aiIduX1bTT',\n",
       "  '/url?q=https://finance.yahoo.com/news/wazirx-hack-sends-shib-wrx-094952828.html&sa=U&ved=2ahUKEwjDg7PYmrWHAxXrp5UCHeFsD1wQxfQBegQICBAC&usg=AOvVaw1y8RTuSPR4rCqmPrMvWEVR',\n",
       "  '/url?q=https://finance.yahoo.com/news/first-mover-americas-bitcoin-trades-120206485.html&sa=U&ved=2ahUKEwjDg7PYmrWHAxXrp5UCHeFsD1wQxfQBegQIBRAC&usg=AOvVaw0vD379depdwLuixOpxuxJf',\n",
       "  '/url?q=https://finance.yahoo.com/news/profit-making-crypto-address-makes-062000734.html&sa=U&ved=2ahUKEwjDg7PYmrWHAxXrp5UCHeFsD1wQxfQBegQIABAC&usg=AOvVaw24poKuGmuJTS9jKoePJyvK',\n",
       "  '/search?q=yahoo+finance+BTC&sca_esv=d28cac85abca5345&sca_upv=1&ie=UTF-8&tbm=nws&ei=YHabZsPTKevP1sQP4dm94AU&start=10&sa=N',\n",
       "  '/url?q=https://support.google.com/websearch%3Fp%3Dws_settings_location%26hl%3Den-IN&opi=89978449&sa=U&ved=0ahUKEwjDg7PYmrWHAxXrp5UCHeFsD1wQty4IUw&usg=AOvVaw2djI3wILm8Iw-aL0K2ugOP',\n",
       "  '/url?q=https://accounts.google.com/ServiceLogin%3Fcontinue%3Dhttps://www.google.com/search%253Fq%253Dyahoo%252Bfinance%252BBTC%2526tbm%253Dnws%26hl%3Den&opi=89978449&sa=U&ved=0ahUKEwjDg7PYmrWHAxXrp5UCHeFsD1wQxs8CCFQ&usg=AOvVaw2i3MnrmkBzZdKHrA8LcAPR',\n",
       "  'https://www.google.com/preferences?hl=en-IN&fg=1&sa=X&ved=0ahUKEwjDg7PYmrWHAxXrp5UCHeFsD1wQ5fUCCFU',\n",
       "  'https://policies.google.com/privacy?hl=en-IN&fg=1',\n",
       "  'https://policies.google.com/terms?hl=en-IN&fg=1',\n",
       "  '/setprefs?hl=en&prev=https://www.google.com/search?q%3Dyahoo%2Bfinance%2BBTC%26tbm%3Dnws%26pccc%3D1&sig=0_engkdSmFi7HXTJCNmggELdVMdkQ%3D&cs=2&sa=X&ved=0ahUKEwjDg7PYmrWHAxXrp5UCHeFsD1wQjcAJCFY']}"
      ]
     },
     "execution_count": 100,
     "metadata": {},
     "output_type": "execute_result"
    }
   ],
   "source": [
    "raw_urls ={ticker:search_for_stock_news_urls(ticker) for ticker in monitored_tickers}\n",
    "raw_urls"
   ]
  },
  {
   "cell_type": "code",
   "execution_count": 101,
   "id": "4262c4a0",
   "metadata": {},
   "outputs": [
    {
     "data": {
      "text/plain": [
       "'/?sa=X&ved=0ahUKEwi-7ofXmrWHAxUdpZUCHfPmA-oQOwgC'"
      ]
     },
     "execution_count": 101,
     "metadata": {},
     "output_type": "execute_result"
    }
   ],
   "source": [
    "raw_urls[\"GME\"][0]"
   ]
  },
  {
   "cell_type": "markdown",
   "id": "8ee6e7c5",
   "metadata": {},
   "source": [
    "# 4.2 Strip Out unwanted URLs"
   ]
  },
  {
   "cell_type": "code",
   "execution_count": 102,
   "id": "5d7ab172",
   "metadata": {},
   "outputs": [],
   "source": [
    "import re #regular expressions(re)"
   ]
  },
  {
   "cell_type": "code",
   "execution_count": 103,
   "id": "b261996d",
   "metadata": {},
   "outputs": [],
   "source": [
    "exclude_list= ['maps', 'policies', 'preferences', 'accounts', 'support']"
   ]
  },
  {
   "cell_type": "code",
   "execution_count": 104,
   "id": "4dc6cd3b",
   "metadata": {},
   "outputs": [],
   "source": [
    "def strip_unwanted_urls(urls, exclude_list):\n",
    "    val = []\n",
    "    for url in urls:\n",
    "        if 'https://' in url and not any(exclude_word in url for exclude_word in exclude_list):\n",
    "            res = re.findall(r'(https?://\\S+)', url)[0].split('&')[0]\n",
    "            val.append(res)\n",
    "    return list(set(val))"
   ]
  },
  {
   "cell_type": "code",
   "execution_count": 105,
   "id": "cddc75b9",
   "metadata": {},
   "outputs": [
    {
     "data": {
      "text/plain": [
       "['/?sa=X&ved=0ahUKEwi-7ofXmrWHAxUdpZUCHfPmA-oQOwgC',\n",
       " '/search?q=yahoo+finance+GME&sca_esv=d28cac85abca5345&ie=UTF-8&tbm=nws&gbv=1&sei=XXabZv7LNZ3K1sQP882P0A4',\n",
       " '/search?q=yahoo+finance+GME&sca_esv=d28cac85abca5345&ie=UTF-8&source=lnms&sa=X&ved=0ahUKEwi-7ofXmrWHAxUdpZUCHfPmA-oQ_AUIBSgA',\n",
       " '/search?q=yahoo+finance+GME&sca_esv=d28cac85abca5345&ie=UTF-8&tbm=vid&source=lnms&sa=X&ved=0ahUKEwi-7ofXmrWHAxUdpZUCHfPmA-oQ_AUIBygC',\n",
       " '/search?q=yahoo+finance+GME&sca_esv=d28cac85abca5345&ie=UTF-8&tbm=bks&source=lnms&sa=X&ved=0ahUKEwi-7ofXmrWHAxUdpZUCHfPmA-oQ_AUICCgD',\n",
       " '/search?q=yahoo+finance+GME&sca_esv=d28cac85abca5345&ie=UTF-8&tbm=isch&source=lnms&sa=X&ved=0ahUKEwi-7ofXmrWHAxUdpZUCHfPmA-oQ_AUICSgE',\n",
       " '/url?q=https://maps.google.com/maps%3Fq%3Dyahoo%2Bfinance%2BGME%26um%3D1%26ie%3DUTF-8%26ved%3D1t:200713%26ictx%3D111&opi=89978449&sa=U&ved=0ahUKEwi-7ofXmrWHAxUdpZUCHfPmA-oQiaAMCAooBQ&usg=AOvVaw2Txc_uPrdZmyIs9pLeIoAG',\n",
       " '/url?q=/search%3Fq%3Dyahoo%2Bfinance%2BGME%26sca_esv%3Dd28cac85abca5345%26ie%3DUTF-8%26tbm%3Dshop%26source%3Dlnms%26ved%3D1t:200713%26ictx%3D111&opi=89978449&sa=U&ved=0ahUKEwi-7ofXmrWHAxUdpZUCHfPmA-oQiaAMCAsoBg&usg=AOvVaw2jvAyFDIh_OXO6Ma1Dcr4P',\n",
       " '/advanced_search',\n",
       " '/search?q=yahoo+finance+GME&sca_esv=d28cac85abca5345&ie=UTF-8&tbm=nws&source=lnt&tbs=qdr:h&sa=X&ved=0ahUKEwi-7ofXmrWHAxUdpZUCHfPmA-oQpwUIDQ',\n",
       " '/search?q=yahoo+finance+GME&sca_esv=d28cac85abca5345&ie=UTF-8&tbm=nws&source=lnt&tbs=qdr:d&sa=X&ved=0ahUKEwi-7ofXmrWHAxUdpZUCHfPmA-oQpwUIDg',\n",
       " '/search?q=yahoo+finance+GME&sca_esv=d28cac85abca5345&ie=UTF-8&tbm=nws&source=lnt&tbs=qdr:w&sa=X&ved=0ahUKEwi-7ofXmrWHAxUdpZUCHfPmA-oQpwUIDw',\n",
       " '/search?q=yahoo+finance+GME&sca_esv=d28cac85abca5345&ie=UTF-8&tbm=nws&source=lnt&tbs=qdr:m&sa=X&ved=0ahUKEwi-7ofXmrWHAxUdpZUCHfPmA-oQpwUIEA',\n",
       " '/search?q=yahoo+finance+GME&sca_esv=d28cac85abca5345&ie=UTF-8&tbm=nws&source=lnt&tbs=qdr:y&sa=X&ved=0ahUKEwi-7ofXmrWHAxUdpZUCHfPmA-oQpwUIEQ',\n",
       " '/search?q=yahoo+finance+GME&sca_esv=d28cac85abca5345&ie=UTF-8&tbm=nws&source=lnt&tbs=ar:1&sa=X&ved=0ahUKEwi-7ofXmrWHAxUdpZUCHfPmA-oQpwUIEg',\n",
       " '/search?q=yahoo+finance+GME&sca_esv=d28cac85abca5345&ie=UTF-8&tbm=nws&source=lnt&tbs=sbd:1&sa=X&ved=0ahUKEwi-7ofXmrWHAxUdpZUCHfPmA-oQpwUIFA',\n",
       " '/url?q=https://finance.yahoo.com/news/gamestop-gme-rises-higher-market-214519002.html&sa=U&ved=2ahUKEwi-7ofXmrWHAxUdpZUCHfPmA-oQxfQBegQIAhAC&usg=AOvVaw2mJ3i3VLfQuOw_3UEBG3kf',\n",
       " '/url?q=https://finance.yahoo.com/news/gamestop-gme-down-13-month-124300979.html&sa=U&ved=2ahUKEwi-7ofXmrWHAxUdpZUCHfPmA-oQxfQBegQICRAC&usg=AOvVaw2Zh7nZytUaSKdWdq8hzYyy',\n",
       " '/url?q=https://finance.yahoo.com/news/gamestop-stock-nyse-gme-game-000228694.html&sa=U&ved=2ahUKEwi-7ofXmrWHAxUdpZUCHfPmA-oQxfQBegQIARAC&usg=AOvVaw3QbKrInIjsWDg0VfvIKFV9',\n",
       " '/url?q=https://finance.yahoo.com/news/why-gamestop-gme-shares-trading-151315370.html&sa=U&ved=2ahUKEwi-7ofXmrWHAxUdpZUCHfPmA-oQxfQBegQIABAC&usg=AOvVaw1U_tEP-J_JDx6wkT8QUzU3',\n",
       " '/url?q=https://finance.yahoo.com/news/gamestops-gme-preliminary-results-highlight-160700244.html&sa=U&ved=2ahUKEwi-7ofXmrWHAxUdpZUCHfPmA-oQxfQBegQIBxAC&usg=AOvVaw031MlPCpsom-TVc9dJ27Yc',\n",
       " '/url?q=https://finance.yahoo.com/news/investors-heavily-search-gamestop-corp-130015751.html&sa=U&ved=2ahUKEwi-7ofXmrWHAxUdpZUCHfPmA-oQxfQBegQIBhAC&usg=AOvVaw3WqvXN75O05vv6aEUJz-rz',\n",
       " '/url?q=https://finance.yahoo.com/news/why-gamestop-gme-stock-trading-153229310.html&sa=U&ved=2ahUKEwi-7ofXmrWHAxUdpZUCHfPmA-oQxfQBegQIAxAC&usg=AOvVaw3Deujovl_2i9tHWzn6tDfw',\n",
       " '/url?q=https://finance.yahoo.com/news/gamestop-should-ditch-retail-and-become-a-holding-company-like-warren-buffetts-berkshire-hathaway-133106692.html&sa=U&ved=2ahUKEwi-7ofXmrWHAxUdpZUCHfPmA-oQxfQBegQIBRAC&usg=AOvVaw0AoXgJpaSdYecRd-kkH69M',\n",
       " '/url?q=https://finance.yahoo.com/news/why-gamestop-gme-shares-trading-162132483.html&sa=U&ved=2ahUKEwi-7ofXmrWHAxUdpZUCHfPmA-oQxfQBegQICBAC&usg=AOvVaw2Suv7g_iACkCA40wL_kLes',\n",
       " '/url?q=https://finance.yahoo.com/news/gamestop-releases-q1-results-ahead-111604723.html&sa=U&ved=2ahUKEwi-7ofXmrWHAxUdpZUCHfPmA-oQxfQBegQIBBAC&usg=AOvVaw3PNQGeYzSUEPDeGGzFGi9g',\n",
       " '/search?q=yahoo+finance+GME&sca_esv=d28cac85abca5345&ie=UTF-8&tbm=nws&ei=XXabZv7LNZ3K1sQP882P0A4&start=10&sa=N',\n",
       " '/url?q=https://support.google.com/websearch%3Fp%3Dws_settings_location%26hl%3Den-IN&opi=89978449&sa=U&ved=0ahUKEwi-7ofXmrWHAxUdpZUCHfPmA-oQty4IUw&usg=AOvVaw16E8BZoqUYohoU7hEJXWYv',\n",
       " '/url?q=https://accounts.google.com/ServiceLogin%3Fcontinue%3Dhttps://www.google.com/search%253Fq%253Dyahoo%252Bfinance%252BGME%2526tbm%253Dnws%26hl%3Den&opi=89978449&sa=U&ved=0ahUKEwi-7ofXmrWHAxUdpZUCHfPmA-oQxs8CCFQ&usg=AOvVaw1rZHgsO5gFiV0AsLXbfK6s',\n",
       " 'https://www.google.com/preferences?hl=en-IN&fg=1&sa=X&ved=0ahUKEwi-7ofXmrWHAxUdpZUCHfPmA-oQ5fUCCFU',\n",
       " 'https://policies.google.com/privacy?hl=en-IN&fg=1',\n",
       " 'https://policies.google.com/terms?hl=en-IN&fg=1',\n",
       " '/setprefs?hl=en&prev=https://www.google.com/search?q%3Dyahoo%2Bfinance%2BGME%26tbm%3Dnws%26pccc%3D1&sig=0_1LxhD71tbq3UlqoOIBlsrB2B1XY%3D&cs=2&sa=X&ved=0ahUKEwi-7ofXmrWHAxUdpZUCHfPmA-oQjcAJCFY']"
      ]
     },
     "execution_count": 105,
     "metadata": {},
     "output_type": "execute_result"
    }
   ],
   "source": [
    "raw_urls['GME']"
   ]
  },
  {
   "cell_type": "code",
   "execution_count": 106,
   "id": "01ff6df5",
   "metadata": {},
   "outputs": [
    {
     "data": {
      "text/plain": [
       "{'GME': ['https://finance.yahoo.com/news/gamestops-gme-preliminary-results-highlight-160700244.html',\n",
       "  'https://finance.yahoo.com/news/why-gamestop-gme-stock-trading-153229310.html',\n",
       "  'https://finance.yahoo.com/news/gamestop-releases-q1-results-ahead-111604723.html',\n",
       "  'https://finance.yahoo.com/news/gamestop-gme-down-13-month-124300979.html',\n",
       "  'https://finance.yahoo.com/news/gamestop-gme-rises-higher-market-214519002.html',\n",
       "  'https://www.google.com/search?q%3Dyahoo%2Bfinance%2BGME%26tbm%3Dnws%26pccc%3D1',\n",
       "  'https://finance.yahoo.com/news/gamestop-should-ditch-retail-and-become-a-holding-company-like-warren-buffetts-berkshire-hathaway-133106692.html',\n",
       "  'https://finance.yahoo.com/news/why-gamestop-gme-shares-trading-162132483.html',\n",
       "  'https://finance.yahoo.com/news/gamestop-stock-nyse-gme-game-000228694.html',\n",
       "  'https://finance.yahoo.com/news/why-gamestop-gme-shares-trading-151315370.html',\n",
       "  'https://finance.yahoo.com/news/investors-heavily-search-gamestop-corp-130015751.html'],\n",
       " 'TSLA': ['https://finance.yahoo.com/news/live/stock-market-today-stocks-fall-from-records-as-tesla-nvidia-lead-tech-sell-off-200114295.html',\n",
       "  'https://finance.yahoo.com/news/tesla-stock-surges-as-quarterly-vehicle-deliveries-beat-wall-street-estimates-201123452.html',\n",
       "  'https://www.google.com/search?q%3Dyahoo%2Bfinance%2BTSLA%26tbm%3Dnws%26pccc%3D1',\n",
       "  'https://finance.yahoo.com/news/tesla-stock-nasdaq-tsla-comeback-010835403.html',\n",
       "  'https://finance.yahoo.com/news/jim-cramer-tesla-inc-nasdaq-120919586.html',\n",
       "  'https://finance.yahoo.com/news/tesla-inc-nasdaq-tsla-stocks-130014699.html',\n",
       "  'https://finance.yahoo.com/news/tesla-stock-surge-10-fold-000001701.html',\n",
       "  'https://finance.yahoo.com/news/tesla-stock-notches-9th-straight-day-of-gains-201451600.html',\n",
       "  'https://finance.yahoo.com/video/tesla-investors-shouldnt-fret-robotaxi-214539400.html',\n",
       "  'https://finance.yahoo.com/news/teslas-valuation-is-turning-heads-chart-of-the-week-100642187.html',\n",
       "  'https://finance.yahoo.com/news/behind-tesla-stock-nasdaq-tsla-073001274.html'],\n",
       " 'BTC': ['https://finance.yahoo.com/news/bitcoin-cements-legitimate-status-as-wall-street-struggles-toward-a-new-consensus-morning-brief-100008050.html',\n",
       "  'https://finance.yahoo.com/news/first-mover-americas-bitcoin-trades-120206485.html',\n",
       "  'https://finance.yahoo.com/news/bitcoin-may-target-71-500-060059796.html',\n",
       "  'https://finance.yahoo.com/news/profit-making-crypto-address-makes-062000734.html',\n",
       "  'https://finance.yahoo.com/news/4-solid-stocks-gain-bitcoin-132000064.html',\n",
       "  'https://finance.yahoo.com/video/bitcoin-rises-above-63-000-203629337.html',\n",
       "  'https://finance.yahoo.com/video/hugh-hendry-bitcoin-triple-why-111300673.html',\n",
       "  'https://finance.yahoo.com/news/wazirx-hack-sends-shib-wrx-094952828.html',\n",
       "  'https://finance.yahoo.com/news/bitcoin-tops-66k-cryptos-rally-174840410.html',\n",
       "  'https://finance.yahoo.com/video/trump-backs-bitcoin-small-caps-220620606.html',\n",
       "  'https://www.google.com/search?q%3Dyahoo%2Bfinance%2BBTC%26tbm%3Dnws%26pccc%3D1']}"
      ]
     },
     "execution_count": 106,
     "metadata": {},
     "output_type": "execute_result"
    }
   ],
   "source": [
    "cleaned_urls = {ticker:strip_unwanted_urls(raw_urls[ticker], exclude_list) for ticker in monitored_tickers}\n",
    "cleaned_urls"
   ]
  },
  {
   "cell_type": "markdown",
   "id": "310fa787",
   "metadata": {},
   "source": [
    "# 4.3 Search and Scrape Cleaned URLs"
   ]
  },
  {
   "cell_type": "code",
   "execution_count": 107,
   "id": "4bde8105",
   "metadata": {},
   "outputs": [],
   "source": [
    "def scrape_and_process(URLs):\n",
    "    ARTICLES = []\n",
    "    for url in URLs:\n",
    "        r = requests.get(url)\n",
    "        soup = BeautifulSoup(r.text, 'html.parser')\n",
    "        paragraphs = soup.find('p')\n",
    "        text = [paragraph.text for paragraph in paragraphs]\n",
    "        words = ' '.join(text).split(' ')[:350]\n",
    "        ARTICLE = ' '.join (words)\n",
    "        ARTICLES.append(ARTICLE)\n",
    "    return ARTICLES"
   ]
  },
  {
   "cell_type": "code",
   "execution_count": 108,
   "id": "bcfe147c",
   "metadata": {
    "scrolled": true
   },
   "outputs": [
    {
     "data": {
      "text/plain": [
       "{'GME': ['Thank you for your patience.',\n",
       "  'Thank you for your patience.',\n",
       "  'Thank you for your patience.',\n",
       "  \"GameStop Corp.  GME, a stock synonymous with the meme trading frenzy, has seen a substantial decline of nearly 13% in the past month. Currently trading well below its 52-week high of $64.83, achieved on May 14, 2024, the stock closed at $24.37 on Jul 3. This sharp drop has left many investors questioning the future of GameStop and how to navigate the unpredictable landscape of meme stock investments.   GameStop's rise to fame as a meme stock was nothing short of spectacular. Fueled by retail investors on platforms like Reddit's WallStreetBets, the stock saw unprecedented gains driven by short squeezes and social media hype. This frenzy turned GameStop into a symbol of the power of retail investors challenging traditional Wall Street norms. However, the 62.4% decline from its 52-week peak highlights the inherent volatility and risk associated with such stocks.  AMC Entertainment Holdings  AMC and  BlackBerry  BB also joined the meme stock rally.\",\n",
       "  \"GameStop (GME) closed at $26.05 in the latest trading session, marking a +1.88% move from the prior day. The stock's performance was ahead of the S&P 500's daily gain of 0.55%. Elsewhere, the Dow saw an upswing of 0.62%, while the tech-heavy Nasdaq appreciated by 0.63%.\",\n",
       "  '© 2024 -  Privacy  -  Terms',\n",
       "  \"It’s time for GameStop ( GME ) to stick a fork in its flailing retail operations and embrace a second life as a holding company in the mold of  Warren Buffett 's Berkshire Hathaway ( BRK-A )( BRK-B ).\",\n",
       "  'Thank you for your patience.',\n",
       "  'Thank you for your patience.',\n",
       "  'Thank you for your patience.',\n",
       "  \"GameStop  (GME) has been one of the most searched-for stocks on Zacks.com lately. So, you might want to look at some of the facts that could shape the stock's performance in the near term.\"],\n",
       " 'TSLA': ['Thank you for your patience.',\n",
       "  'Tesla stock ( TSLA ) was set to extend gains after jumping more than 10% on Tuesday as the electric vehicle giant reported quarterly vehicle deliveries that beat Wall Street expectations.',\n",
       "  '© 2024 -  Privacy  -  Terms',\n",
       "  'Tesla’s ( NASDAQ:TSLA ) journey in 2024 has been anything but smooth. We’ve got factory shutdowns, shipping woes, and some serious competition nipping at Tesla’s heels, especially in China. Yet, Elon Musk’s unwavering commitment to expanding Tesla’s EV lineup has kept the company on track. The recent release of Tesla’s Q2 production and delivery report has everyone talking. While the numbers show a decline compared to last year, they still managed to beat analysts’ expectations, giving the stock a much-needed boost.',\n",
       "  'We recently published a list of\\xa0 Jim Cramer Says You Should Buy These 10 Stocks .\\xa0 Since Tesla Inc (NASDAQ:TSLA) ranks 4th on the list, it deserves a deeper look.',\n",
       "  \"Most readers would already be aware that Tesla's (NASDAQ:TSLA) stock increased significantly by 65% over the past three months. Given the company's impressive performance, we decided to study its financial indicators more closely as a company's financial health over the long-term usually dictates market outcomes. Particularly, we will be paying attention to  Tesla's   ROE today.\",\n",
       "  '(Bloomberg) -- Tesla Inc. forming an autonomous taxi platform will be the catalyst for a roughly 10-fold increase in its share price, Ark Investment Management LLC’s Cathie Wood said, echoing years of bullish predictions about a business the carmaker has yet to stand up.',\n",
       "  \"Tesla's stock ( TSLA ) extended its rally to nine consecutive days Monday, eking out a 0.5% gain.\",\n",
       "  'Thank you for your patience.',\n",
       "  \"This is The Takeaway from today's Morning Brief, which you can  sign up  to receive in your inbox every morning along with:\",\n",
       "  'Tesla ( NASDAQ:TSLA ) stock  has gained in recent weeks  after beating delivery expectations in the second quarter. The Elon Musk-run company  has seen its shares rise 40.9% over the past 30 days  and now trades with some enormous valuation multiples. I’m still neutral on Tesla, as I appreciate that Robotaxi and robotics could be game-changing for the business, but the valuation is hard to justify.'],\n",
       " 'BTC': [\"This is The Takeaway from today's Morning Brief, which you can  sign up  to receive in your inbox every morning along with:\",\n",
       "  'This article originally appeared in  First Mover , CoinDesk’s daily newsletter, putting the latest moves in crypto markets in context.  Subscribe to get it in your inbox every day .',\n",
       "  \"Bitcoin (BTC)  could hit the $71,500 mark after crossing the $65,000 threshold on Tuesday, according to some crypto traders. This recent price rebound has also intensified interest among futures traders who are betting on Bitcoin's short-term movements. Bitcoin is currently trading at $65,778, according to CoinMarketCap data.\",\n",
       "  'A profitable crypto address has made a fresh investment in BTC.',\n",
       "  'The cryptocurrency rally that began in 2023 and continued into the first quarter came to a sudden halt in April. Bitcoin (BTC) particularly has been in focus as the world’s most popular cryptocurrency witnessed an unprecedented rise at the beginning of this year.',\n",
       "  'Thank you for your patience.',\n",
       "  'Thank you for your patience.',\n",
       "  \"WazirX's native token WRX slumped 15% in dollar terms.\",\n",
       "  'Bitcoin hit a one-month high at $66,700, up 4% over the past 24 hours.',\n",
       "  'Thank you for your patience.',\n",
       "  '© 2024 -  Privacy  -  Terms']}"
      ]
     },
     "execution_count": 108,
     "metadata": {},
     "output_type": "execute_result"
    }
   ],
   "source": [
    "articles = {ticker:scrape_and_process(cleaned_urls[ticker]) for ticker in monitored_tickers}\n",
    "articles"
   ]
  },
  {
   "cell_type": "code",
   "execution_count": 109,
   "id": "855bc000",
   "metadata": {},
   "outputs": [
    {
     "data": {
      "text/plain": [
       "'Tesla’s ( NASDAQ:TSLA ) journey in 2024 has been anything but smooth. We’ve got factory shutdowns, shipping woes, and some serious competition nipping at Tesla’s heels, especially in China. Yet, Elon Musk’s unwavering commitment to expanding Tesla’s EV lineup has kept the company on track. The recent release of Tesla’s Q2 production and delivery report has everyone talking. While the numbers show a decline compared to last year, they still managed to beat analysts’ expectations, giving the stock a much-needed boost.'"
      ]
     },
     "execution_count": 109,
     "metadata": {},
     "output_type": "execute_result"
    }
   ],
   "source": [
    "articles['TSLA'][3]"
   ]
  },
  {
   "cell_type": "markdown",
   "id": "0204b8d2",
   "metadata": {},
   "source": [
    "# 4.4 Summarise all Articles"
   ]
  },
  {
   "cell_type": "code",
   "execution_count": 110,
   "id": "1448bf23",
   "metadata": {},
   "outputs": [],
   "source": [
    "def summarize(articles):\n",
    "    summaries = []\n",
    "    for article in articles:\n",
    "        input_ids = tokenizer.encode(article, return_tensors = 'pt')\n",
    "        output = model.generate(input_ids, max_length=55, num_beams=5, early_stopping=True)\n",
    "        summary = tokenizer.decode(output[0], skip_special_tokens= True)\n",
    "        summaries.append(summary)\n",
    "    return summaries"
   ]
  },
  {
   "cell_type": "code",
   "execution_count": 111,
   "id": "7d3d3e24",
   "metadata": {
    "scrolled": false
   },
   "outputs": [
    {
     "data": {
      "text/plain": [
       "{'GME': ['We will update this page as soon as possible.',\n",
       "  'We will update this page as soon as possible.',\n",
       "  'We will update this page as soon as possible.',\n",
       "  'The stock is trading well below its 52-week high of $64.83. This sharp drop has left many investors questioning the future of GameStop',\n",
       "  'Shares of the video game retailer have been moving higher in recent days.',\n",
       "  'Your information may be shared with third parties.',\n",
       "  'Video game retailer’s stock has lost more than half its value in the past five years.',\n",
       "  'We will update this page as soon as possible.',\n",
       "  'We will update this page as soon as possible.',\n",
       "  'We will update this page as soon as possible.',\n",
       "  'Shares of the video game retailer are up more than 20% this year.'],\n",
       " 'TSLA': ['We will update this page as soon as possible.',\n",
       "  'Shares set to extend gains on Wednesday. Tesla reported record vehicle deliveries in its first quarter',\n",
       "  'Your information may be shared with third parties.',\n",
       "  'Musk’s commitment to expanding Tesla’s EV lineup has kept it on track.',\n",
       "  'Tesla is 4th on Cramer’s list of top 10 stocks.',\n",
       "  'Return on equity (ROE) is one of the most important financial indicators.',\n",
       "  'Carmaker’s self-drive platform to be a ‘game-changer,’ Wood says. Shares to rise as much as 10-fold, she says',\n",
       "  'Shares of the electric carmaker have been on a roll in recent weeks.',\n",
       "  'We will update this page as soon as possible.',\n",
       "  'A look back at some of the quirkier snippets from the news in recent times',\n",
       "  'I’m still neutral on the electric-car maker, but valuations are hard to justify.'],\n",
       " 'BTC': ['A look back at some of the quirkier snippets from the news in recent times',\n",
       "  'First Mover takes a look at the latest moves in crypto markets.',\n",
       "  'Surging interest in Bitcoin futures has also boosted prices.',\n",
       "  'A profitable crypto address has made a fresh investment in BTC.',\n",
       "  'Markets have been volatile since the beginning of the year. Bitcoin (BTC) has been in focus as the world’s most popular cryptocurrency witnessed an unprecedented rise',\n",
       "  'We will update this page as soon as possible.',\n",
       "  'We will update this page as soon as possible.',\n",
       "  \"WazirX's native token WRX slumped 15% in dollar terms.\",\n",
       "  'The The cryptocurrency hit a one-month high after hitting a record low on Friday.',\n",
       "  'We will update this page as soon as possible.',\n",
       "  'Your information may be shared with third parties.']}"
      ]
     },
     "execution_count": 111,
     "metadata": {},
     "output_type": "execute_result"
    }
   ],
   "source": [
    "summaries = {ticker:summarize(articles[ticker]) for ticker in monitored_tickers}\n",
    "summaries"
   ]
  },
  {
   "cell_type": "code",
   "execution_count": 112,
   "id": "ec29243a",
   "metadata": {},
   "outputs": [
    {
     "data": {
      "text/plain": [
       "['A look back at some of the quirkier snippets from the news in recent times',\n",
       " 'First Mover takes a look at the latest moves in crypto markets.',\n",
       " 'Surging interest in Bitcoin futures has also boosted prices.',\n",
       " 'A profitable crypto address has made a fresh investment in BTC.',\n",
       " 'Markets have been volatile since the beginning of the year. Bitcoin (BTC) has been in focus as the world’s most popular cryptocurrency witnessed an unprecedented rise',\n",
       " 'We will update this page as soon as possible.',\n",
       " 'We will update this page as soon as possible.',\n",
       " \"WazirX's native token WRX slumped 15% in dollar terms.\",\n",
       " 'The The cryptocurrency hit a one-month high after hitting a record low on Friday.',\n",
       " 'We will update this page as soon as possible.',\n",
       " 'Your information may be shared with third parties.']"
      ]
     },
     "execution_count": 112,
     "metadata": {},
     "output_type": "execute_result"
    }
   ],
   "source": [
    "summaries['BTC']"
   ]
  },
  {
   "cell_type": "markdown",
   "id": "761b7a32",
   "metadata": {},
   "source": [
    "# 5. Adding Sentiment Analysis"
   ]
  },
  {
   "cell_type": "code",
   "execution_count": 113,
   "id": "814852ac",
   "metadata": {},
   "outputs": [
    {
     "name": "stdout",
     "output_type": "stream",
     "text": [
      "[{'label': 'POSITIVE', 'score': 0.9993904829025269}]\n"
     ]
    }
   ],
   "source": [
    "from transformers import pipeline\n",
    "\n",
    "# Specify the model name and revision\n",
    "model_name = \"distilbert/distilbert-base-uncased-finetuned-sst-2-english\"\n",
    "revision = \"af0f99b\"\n",
    "\n",
    "# Create a sentiment-analysis pipeline with the specified model and revision\n",
    "sentiment = pipeline('sentiment-analysis', model=model_name, revision=revision)\n",
    "\n",
    "# Example usage\n",
    "result = sentiment(\"I love using the transformers library!\")\n",
    "print(result)\n"
   ]
  },
  {
   "cell_type": "code",
   "execution_count": 114,
   "id": "2a9bbfd8",
   "metadata": {},
   "outputs": [
    {
     "data": {
      "text/plain": [
       "[{'label': 'POSITIVE', 'score': 0.9971897006034851},\n",
       " {'label': 'POSITIVE', 'score': 0.983063280582428},\n",
       " {'label': 'POSITIVE', 'score': 0.9992666840553284},\n",
       " {'label': 'POSITIVE', 'score': 0.9993797540664673},\n",
       " {'label': 'POSITIVE', 'score': 0.9951992630958557},\n",
       " {'label': 'POSITIVE', 'score': 0.9566920399665833},\n",
       " {'label': 'POSITIVE', 'score': 0.9566920399665833},\n",
       " {'label': 'NEGATIVE', 'score': 0.9996933937072754},\n",
       " {'label': 'NEGATIVE', 'score': 0.9984173774719238},\n",
       " {'label': 'POSITIVE', 'score': 0.9566920399665833},\n",
       " {'label': 'NEGATIVE', 'score': 0.9903545379638672}]"
      ]
     },
     "execution_count": 114,
     "metadata": {},
     "output_type": "execute_result"
    }
   ],
   "source": [
    "sentiment(summaries['BTC'])"
   ]
  },
  {
   "cell_type": "code",
   "execution_count": 115,
   "id": "debb76e7",
   "metadata": {},
   "outputs": [
    {
     "data": {
      "text/plain": [
       "{'GME': [{'label': 'POSITIVE', 'score': 0.9566920399665833},\n",
       "  {'label': 'POSITIVE', 'score': 0.9566920399665833},\n",
       "  {'label': 'POSITIVE', 'score': 0.9566920399665833},\n",
       "  {'label': 'NEGATIVE', 'score': 0.998848557472229},\n",
       "  {'label': 'POSITIVE', 'score': 0.9962789416313171},\n",
       "  {'label': 'NEGATIVE', 'score': 0.9903545379638672},\n",
       "  {'label': 'NEGATIVE', 'score': 0.9997506737709045},\n",
       "  {'label': 'POSITIVE', 'score': 0.9566920399665833},\n",
       "  {'label': 'POSITIVE', 'score': 0.9566920399665833},\n",
       "  {'label': 'POSITIVE', 'score': 0.9566920399665833},\n",
       "  {'label': 'POSITIVE', 'score': 0.9807196259498596}],\n",
       " 'TSLA': [{'label': 'POSITIVE', 'score': 0.9566920399665833},\n",
       "  {'label': 'POSITIVE', 'score': 0.9392716884613037},\n",
       "  {'label': 'NEGATIVE', 'score': 0.9903545379638672},\n",
       "  {'label': 'POSITIVE', 'score': 0.9993440508842468},\n",
       "  {'label': 'POSITIVE', 'score': 0.9767380356788635},\n",
       "  {'label': 'POSITIVE', 'score': 0.9954968690872192},\n",
       "  {'label': 'POSITIVE', 'score': 0.9938702583312988},\n",
       "  {'label': 'POSITIVE', 'score': 0.9986897110939026},\n",
       "  {'label': 'POSITIVE', 'score': 0.9566920399665833},\n",
       "  {'label': 'POSITIVE', 'score': 0.9971897006034851},\n",
       "  {'label': 'NEGATIVE', 'score': 0.9973223805427551}],\n",
       " 'BTC': [{'label': 'POSITIVE', 'score': 0.9971897006034851},\n",
       "  {'label': 'POSITIVE', 'score': 0.983063280582428},\n",
       "  {'label': 'POSITIVE', 'score': 0.9992666840553284},\n",
       "  {'label': 'POSITIVE', 'score': 0.9993797540664673},\n",
       "  {'label': 'POSITIVE', 'score': 0.9951992630958557},\n",
       "  {'label': 'POSITIVE', 'score': 0.9566920399665833},\n",
       "  {'label': 'POSITIVE', 'score': 0.9566920399665833},\n",
       "  {'label': 'NEGATIVE', 'score': 0.9996933937072754},\n",
       "  {'label': 'NEGATIVE', 'score': 0.9984173774719238},\n",
       "  {'label': 'POSITIVE', 'score': 0.9566920399665833},\n",
       "  {'label': 'NEGATIVE', 'score': 0.9903545379638672}]}"
      ]
     },
     "execution_count": 115,
     "metadata": {},
     "output_type": "execute_result"
    }
   ],
   "source": [
    "scores = {ticker:sentiment(summaries[ticker]) for ticker in monitored_tickers}\n",
    "scores"
   ]
  },
  {
   "cell_type": "code",
   "execution_count": 116,
   "id": "7832a309",
   "metadata": {},
   "outputs": [
    {
     "name": "stdout",
     "output_type": "stream",
     "text": [
      "Shares of the electric carmaker have been on a roll in recent weeks. POSITIVE 0.9986897110939026\n"
     ]
    }
   ],
   "source": [
    "print(summaries['TSLA'][7], scores['TSLA'][7]['label'], scores['TSLA'][7]['score'])"
   ]
  },
  {
   "cell_type": "code",
   "execution_count": 117,
   "id": "bb404abe",
   "metadata": {},
   "outputs": [
    {
     "data": {
      "text/plain": [
       "0.9971897006034851"
      ]
     },
     "execution_count": 117,
     "metadata": {},
     "output_type": "execute_result"
    }
   ],
   "source": [
    "scores['BTC'][0]['score']"
   ]
  },
  {
   "cell_type": "markdown",
   "id": "0b868064",
   "metadata": {},
   "source": [
    "## "
   ]
  },
  {
   "cell_type": "markdown",
   "id": "f479b761",
   "metadata": {},
   "source": [
    "# 6. Exporting Results to CSV"
   ]
  },
  {
   "cell_type": "code",
   "execution_count": 118,
   "id": "8e798af3",
   "metadata": {},
   "outputs": [
    {
     "data": {
      "text/plain": [
       "{'GME': ['We will update this page as soon as possible.',\n",
       "  'We will update this page as soon as possible.',\n",
       "  'We will update this page as soon as possible.',\n",
       "  'The stock is trading well below its 52-week high of $64.83. This sharp drop has left many investors questioning the future of GameStop',\n",
       "  'Shares of the video game retailer have been moving higher in recent days.',\n",
       "  'Your information may be shared with third parties.',\n",
       "  'Video game retailer’s stock has lost more than half its value in the past five years.',\n",
       "  'We will update this page as soon as possible.',\n",
       "  'We will update this page as soon as possible.',\n",
       "  'We will update this page as soon as possible.',\n",
       "  'Shares of the video game retailer are up more than 20% this year.'],\n",
       " 'TSLA': ['We will update this page as soon as possible.',\n",
       "  'Shares set to extend gains on Wednesday. Tesla reported record vehicle deliveries in its first quarter',\n",
       "  'Your information may be shared with third parties.',\n",
       "  'Musk’s commitment to expanding Tesla’s EV lineup has kept it on track.',\n",
       "  'Tesla is 4th on Cramer’s list of top 10 stocks.',\n",
       "  'Return on equity (ROE) is one of the most important financial indicators.',\n",
       "  'Carmaker’s self-drive platform to be a ‘game-changer,’ Wood says. Shares to rise as much as 10-fold, she says',\n",
       "  'Shares of the electric carmaker have been on a roll in recent weeks.',\n",
       "  'We will update this page as soon as possible.',\n",
       "  'A look back at some of the quirkier snippets from the news in recent times',\n",
       "  'I’m still neutral on the electric-car maker, but valuations are hard to justify.'],\n",
       " 'BTC': ['A look back at some of the quirkier snippets from the news in recent times',\n",
       "  'First Mover takes a look at the latest moves in crypto markets.',\n",
       "  'Surging interest in Bitcoin futures has also boosted prices.',\n",
       "  'A profitable crypto address has made a fresh investment in BTC.',\n",
       "  'Markets have been volatile since the beginning of the year. Bitcoin (BTC) has been in focus as the world’s most popular cryptocurrency witnessed an unprecedented rise',\n",
       "  'We will update this page as soon as possible.',\n",
       "  'We will update this page as soon as possible.',\n",
       "  \"WazirX's native token WRX slumped 15% in dollar terms.\",\n",
       "  'The The cryptocurrency hit a one-month high after hitting a record low on Friday.',\n",
       "  'We will update this page as soon as possible.',\n",
       "  'Your information may be shared with third parties.']}"
      ]
     },
     "execution_count": 118,
     "metadata": {},
     "output_type": "execute_result"
    }
   ],
   "source": [
    "summaries"
   ]
  },
  {
   "cell_type": "code",
   "execution_count": 119,
   "id": "831eb3e1",
   "metadata": {},
   "outputs": [
    {
     "data": {
      "text/plain": [
       "{'GME': [{'label': 'POSITIVE', 'score': 0.9566920399665833},\n",
       "  {'label': 'POSITIVE', 'score': 0.9566920399665833},\n",
       "  {'label': 'POSITIVE', 'score': 0.9566920399665833},\n",
       "  {'label': 'NEGATIVE', 'score': 0.998848557472229},\n",
       "  {'label': 'POSITIVE', 'score': 0.9962789416313171},\n",
       "  {'label': 'NEGATIVE', 'score': 0.9903545379638672},\n",
       "  {'label': 'NEGATIVE', 'score': 0.9997506737709045},\n",
       "  {'label': 'POSITIVE', 'score': 0.9566920399665833},\n",
       "  {'label': 'POSITIVE', 'score': 0.9566920399665833},\n",
       "  {'label': 'POSITIVE', 'score': 0.9566920399665833},\n",
       "  {'label': 'POSITIVE', 'score': 0.9807196259498596}],\n",
       " 'TSLA': [{'label': 'POSITIVE', 'score': 0.9566920399665833},\n",
       "  {'label': 'POSITIVE', 'score': 0.9392716884613037},\n",
       "  {'label': 'NEGATIVE', 'score': 0.9903545379638672},\n",
       "  {'label': 'POSITIVE', 'score': 0.9993440508842468},\n",
       "  {'label': 'POSITIVE', 'score': 0.9767380356788635},\n",
       "  {'label': 'POSITIVE', 'score': 0.9954968690872192},\n",
       "  {'label': 'POSITIVE', 'score': 0.9938702583312988},\n",
       "  {'label': 'POSITIVE', 'score': 0.9986897110939026},\n",
       "  {'label': 'POSITIVE', 'score': 0.9566920399665833},\n",
       "  {'label': 'POSITIVE', 'score': 0.9971897006034851},\n",
       "  {'label': 'NEGATIVE', 'score': 0.9973223805427551}],\n",
       " 'BTC': [{'label': 'POSITIVE', 'score': 0.9971897006034851},\n",
       "  {'label': 'POSITIVE', 'score': 0.983063280582428},\n",
       "  {'label': 'POSITIVE', 'score': 0.9992666840553284},\n",
       "  {'label': 'POSITIVE', 'score': 0.9993797540664673},\n",
       "  {'label': 'POSITIVE', 'score': 0.9951992630958557},\n",
       "  {'label': 'POSITIVE', 'score': 0.9566920399665833},\n",
       "  {'label': 'POSITIVE', 'score': 0.9566920399665833},\n",
       "  {'label': 'NEGATIVE', 'score': 0.9996933937072754},\n",
       "  {'label': 'NEGATIVE', 'score': 0.9984173774719238},\n",
       "  {'label': 'POSITIVE', 'score': 0.9566920399665833},\n",
       "  {'label': 'NEGATIVE', 'score': 0.9903545379638672}]}"
      ]
     },
     "execution_count": 119,
     "metadata": {},
     "output_type": "execute_result"
    }
   ],
   "source": [
    "scores"
   ]
  },
  {
   "cell_type": "code",
   "execution_count": 120,
   "id": "ea0a7c0c",
   "metadata": {
    "scrolled": true
   },
   "outputs": [
    {
     "data": {
      "text/plain": [
       "{'GME': ['https://finance.yahoo.com/news/gamestops-gme-preliminary-results-highlight-160700244.html',\n",
       "  'https://finance.yahoo.com/news/why-gamestop-gme-stock-trading-153229310.html',\n",
       "  'https://finance.yahoo.com/news/gamestop-releases-q1-results-ahead-111604723.html',\n",
       "  'https://finance.yahoo.com/news/gamestop-gme-down-13-month-124300979.html',\n",
       "  'https://finance.yahoo.com/news/gamestop-gme-rises-higher-market-214519002.html',\n",
       "  'https://www.google.com/search?q%3Dyahoo%2Bfinance%2BGME%26tbm%3Dnws%26pccc%3D1',\n",
       "  'https://finance.yahoo.com/news/gamestop-should-ditch-retail-and-become-a-holding-company-like-warren-buffetts-berkshire-hathaway-133106692.html',\n",
       "  'https://finance.yahoo.com/news/why-gamestop-gme-shares-trading-162132483.html',\n",
       "  'https://finance.yahoo.com/news/gamestop-stock-nyse-gme-game-000228694.html',\n",
       "  'https://finance.yahoo.com/news/why-gamestop-gme-shares-trading-151315370.html',\n",
       "  'https://finance.yahoo.com/news/investors-heavily-search-gamestop-corp-130015751.html'],\n",
       " 'TSLA': ['https://finance.yahoo.com/news/live/stock-market-today-stocks-fall-from-records-as-tesla-nvidia-lead-tech-sell-off-200114295.html',\n",
       "  'https://finance.yahoo.com/news/tesla-stock-surges-as-quarterly-vehicle-deliveries-beat-wall-street-estimates-201123452.html',\n",
       "  'https://www.google.com/search?q%3Dyahoo%2Bfinance%2BTSLA%26tbm%3Dnws%26pccc%3D1',\n",
       "  'https://finance.yahoo.com/news/tesla-stock-nasdaq-tsla-comeback-010835403.html',\n",
       "  'https://finance.yahoo.com/news/jim-cramer-tesla-inc-nasdaq-120919586.html',\n",
       "  'https://finance.yahoo.com/news/tesla-inc-nasdaq-tsla-stocks-130014699.html',\n",
       "  'https://finance.yahoo.com/news/tesla-stock-surge-10-fold-000001701.html',\n",
       "  'https://finance.yahoo.com/news/tesla-stock-notches-9th-straight-day-of-gains-201451600.html',\n",
       "  'https://finance.yahoo.com/video/tesla-investors-shouldnt-fret-robotaxi-214539400.html',\n",
       "  'https://finance.yahoo.com/news/teslas-valuation-is-turning-heads-chart-of-the-week-100642187.html',\n",
       "  'https://finance.yahoo.com/news/behind-tesla-stock-nasdaq-tsla-073001274.html'],\n",
       " 'BTC': ['https://finance.yahoo.com/news/bitcoin-cements-legitimate-status-as-wall-street-struggles-toward-a-new-consensus-morning-brief-100008050.html',\n",
       "  'https://finance.yahoo.com/news/first-mover-americas-bitcoin-trades-120206485.html',\n",
       "  'https://finance.yahoo.com/news/bitcoin-may-target-71-500-060059796.html',\n",
       "  'https://finance.yahoo.com/news/profit-making-crypto-address-makes-062000734.html',\n",
       "  'https://finance.yahoo.com/news/4-solid-stocks-gain-bitcoin-132000064.html',\n",
       "  'https://finance.yahoo.com/video/bitcoin-rises-above-63-000-203629337.html',\n",
       "  'https://finance.yahoo.com/video/hugh-hendry-bitcoin-triple-why-111300673.html',\n",
       "  'https://finance.yahoo.com/news/wazirx-hack-sends-shib-wrx-094952828.html',\n",
       "  'https://finance.yahoo.com/news/bitcoin-tops-66k-cryptos-rally-174840410.html',\n",
       "  'https://finance.yahoo.com/video/trump-backs-bitcoin-small-caps-220620606.html',\n",
       "  'https://www.google.com/search?q%3Dyahoo%2Bfinance%2BBTC%26tbm%3Dnws%26pccc%3D1']}"
      ]
     },
     "execution_count": 120,
     "metadata": {},
     "output_type": "execute_result"
    }
   ],
   "source": [
    "cleaned_urls"
   ]
  },
  {
   "cell_type": "code",
   "execution_count": 121,
   "id": "150534fc",
   "metadata": {},
   "outputs": [
    {
     "data": {
      "text/plain": [
       "range(0, 11)"
      ]
     },
     "execution_count": 121,
     "metadata": {},
     "output_type": "execute_result"
    }
   ],
   "source": [
    "range(len(summaries['GME']))"
   ]
  },
  {
   "cell_type": "code",
   "execution_count": 122,
   "id": "c2773a57",
   "metadata": {},
   "outputs": [],
   "source": [
    "def create_output_array(summaries, scores, urls):\n",
    "    output = []\n",
    "    for ticker in monitored_tickers:\n",
    "        for counter in range(len(summaries[ticker])):\n",
    "            output_this = [\n",
    "                ticker,\n",
    "                summaries[ticker][counter],\n",
    "                scores[ticker][counter]['label'],\n",
    "                scores[ticker][counter]['score'],\n",
    "                urls[ticker][counter]\n",
    "            ]\n",
    "            output.append(output_this)\n",
    "    return output"
   ]
  },
  {
   "cell_type": "code",
   "execution_count": 123,
   "id": "1ebad234",
   "metadata": {},
   "outputs": [
    {
     "data": {
      "text/plain": [
       "[['GME',\n",
       "  'We will update this page as soon as possible.',\n",
       "  'POSITIVE',\n",
       "  0.9566920399665833,\n",
       "  'https://finance.yahoo.com/news/gamestops-gme-preliminary-results-highlight-160700244.html'],\n",
       " ['GME',\n",
       "  'We will update this page as soon as possible.',\n",
       "  'POSITIVE',\n",
       "  0.9566920399665833,\n",
       "  'https://finance.yahoo.com/news/why-gamestop-gme-stock-trading-153229310.html'],\n",
       " ['GME',\n",
       "  'We will update this page as soon as possible.',\n",
       "  'POSITIVE',\n",
       "  0.9566920399665833,\n",
       "  'https://finance.yahoo.com/news/gamestop-releases-q1-results-ahead-111604723.html'],\n",
       " ['GME',\n",
       "  'The stock is trading well below its 52-week high of $64.83. This sharp drop has left many investors questioning the future of GameStop',\n",
       "  'NEGATIVE',\n",
       "  0.998848557472229,\n",
       "  'https://finance.yahoo.com/news/gamestop-gme-down-13-month-124300979.html'],\n",
       " ['GME',\n",
       "  'Shares of the video game retailer have been moving higher in recent days.',\n",
       "  'POSITIVE',\n",
       "  0.9962789416313171,\n",
       "  'https://finance.yahoo.com/news/gamestop-gme-rises-higher-market-214519002.html'],\n",
       " ['GME',\n",
       "  'Your information may be shared with third parties.',\n",
       "  'NEGATIVE',\n",
       "  0.9903545379638672,\n",
       "  'https://www.google.com/search?q%3Dyahoo%2Bfinance%2BGME%26tbm%3Dnws%26pccc%3D1'],\n",
       " ['GME',\n",
       "  'Video game retailer’s stock has lost more than half its value in the past five years.',\n",
       "  'NEGATIVE',\n",
       "  0.9997506737709045,\n",
       "  'https://finance.yahoo.com/news/gamestop-should-ditch-retail-and-become-a-holding-company-like-warren-buffetts-berkshire-hathaway-133106692.html'],\n",
       " ['GME',\n",
       "  'We will update this page as soon as possible.',\n",
       "  'POSITIVE',\n",
       "  0.9566920399665833,\n",
       "  'https://finance.yahoo.com/news/why-gamestop-gme-shares-trading-162132483.html'],\n",
       " ['GME',\n",
       "  'We will update this page as soon as possible.',\n",
       "  'POSITIVE',\n",
       "  0.9566920399665833,\n",
       "  'https://finance.yahoo.com/news/gamestop-stock-nyse-gme-game-000228694.html'],\n",
       " ['GME',\n",
       "  'We will update this page as soon as possible.',\n",
       "  'POSITIVE',\n",
       "  0.9566920399665833,\n",
       "  'https://finance.yahoo.com/news/why-gamestop-gme-shares-trading-151315370.html'],\n",
       " ['GME',\n",
       "  'Shares of the video game retailer are up more than 20% this year.',\n",
       "  'POSITIVE',\n",
       "  0.9807196259498596,\n",
       "  'https://finance.yahoo.com/news/investors-heavily-search-gamestop-corp-130015751.html'],\n",
       " ['TSLA',\n",
       "  'We will update this page as soon as possible.',\n",
       "  'POSITIVE',\n",
       "  0.9566920399665833,\n",
       "  'https://finance.yahoo.com/news/live/stock-market-today-stocks-fall-from-records-as-tesla-nvidia-lead-tech-sell-off-200114295.html'],\n",
       " ['TSLA',\n",
       "  'Shares set to extend gains on Wednesday. Tesla reported record vehicle deliveries in its first quarter',\n",
       "  'POSITIVE',\n",
       "  0.9392716884613037,\n",
       "  'https://finance.yahoo.com/news/tesla-stock-surges-as-quarterly-vehicle-deliveries-beat-wall-street-estimates-201123452.html'],\n",
       " ['TSLA',\n",
       "  'Your information may be shared with third parties.',\n",
       "  'NEGATIVE',\n",
       "  0.9903545379638672,\n",
       "  'https://www.google.com/search?q%3Dyahoo%2Bfinance%2BTSLA%26tbm%3Dnws%26pccc%3D1'],\n",
       " ['TSLA',\n",
       "  'Musk’s commitment to expanding Tesla’s EV lineup has kept it on track.',\n",
       "  'POSITIVE',\n",
       "  0.9993440508842468,\n",
       "  'https://finance.yahoo.com/news/tesla-stock-nasdaq-tsla-comeback-010835403.html'],\n",
       " ['TSLA',\n",
       "  'Tesla is 4th on Cramer’s list of top 10 stocks.',\n",
       "  'POSITIVE',\n",
       "  0.9767380356788635,\n",
       "  'https://finance.yahoo.com/news/jim-cramer-tesla-inc-nasdaq-120919586.html'],\n",
       " ['TSLA',\n",
       "  'Return on equity (ROE) is one of the most important financial indicators.',\n",
       "  'POSITIVE',\n",
       "  0.9954968690872192,\n",
       "  'https://finance.yahoo.com/news/tesla-inc-nasdaq-tsla-stocks-130014699.html'],\n",
       " ['TSLA',\n",
       "  'Carmaker’s self-drive platform to be a ‘game-changer,’ Wood says. Shares to rise as much as 10-fold, she says',\n",
       "  'POSITIVE',\n",
       "  0.9938702583312988,\n",
       "  'https://finance.yahoo.com/news/tesla-stock-surge-10-fold-000001701.html'],\n",
       " ['TSLA',\n",
       "  'Shares of the electric carmaker have been on a roll in recent weeks.',\n",
       "  'POSITIVE',\n",
       "  0.9986897110939026,\n",
       "  'https://finance.yahoo.com/news/tesla-stock-notches-9th-straight-day-of-gains-201451600.html'],\n",
       " ['TSLA',\n",
       "  'We will update this page as soon as possible.',\n",
       "  'POSITIVE',\n",
       "  0.9566920399665833,\n",
       "  'https://finance.yahoo.com/video/tesla-investors-shouldnt-fret-robotaxi-214539400.html'],\n",
       " ['TSLA',\n",
       "  'A look back at some of the quirkier snippets from the news in recent times',\n",
       "  'POSITIVE',\n",
       "  0.9971897006034851,\n",
       "  'https://finance.yahoo.com/news/teslas-valuation-is-turning-heads-chart-of-the-week-100642187.html'],\n",
       " ['TSLA',\n",
       "  'I’m still neutral on the electric-car maker, but valuations are hard to justify.',\n",
       "  'NEGATIVE',\n",
       "  0.9973223805427551,\n",
       "  'https://finance.yahoo.com/news/behind-tesla-stock-nasdaq-tsla-073001274.html'],\n",
       " ['BTC',\n",
       "  'A look back at some of the quirkier snippets from the news in recent times',\n",
       "  'POSITIVE',\n",
       "  0.9971897006034851,\n",
       "  'https://finance.yahoo.com/news/bitcoin-cements-legitimate-status-as-wall-street-struggles-toward-a-new-consensus-morning-brief-100008050.html'],\n",
       " ['BTC',\n",
       "  'First Mover takes a look at the latest moves in crypto markets.',\n",
       "  'POSITIVE',\n",
       "  0.983063280582428,\n",
       "  'https://finance.yahoo.com/news/first-mover-americas-bitcoin-trades-120206485.html'],\n",
       " ['BTC',\n",
       "  'Surging interest in Bitcoin futures has also boosted prices.',\n",
       "  'POSITIVE',\n",
       "  0.9992666840553284,\n",
       "  'https://finance.yahoo.com/news/bitcoin-may-target-71-500-060059796.html'],\n",
       " ['BTC',\n",
       "  'A profitable crypto address has made a fresh investment in BTC.',\n",
       "  'POSITIVE',\n",
       "  0.9993797540664673,\n",
       "  'https://finance.yahoo.com/news/profit-making-crypto-address-makes-062000734.html'],\n",
       " ['BTC',\n",
       "  'Markets have been volatile since the beginning of the year. Bitcoin (BTC) has been in focus as the world’s most popular cryptocurrency witnessed an unprecedented rise',\n",
       "  'POSITIVE',\n",
       "  0.9951992630958557,\n",
       "  'https://finance.yahoo.com/news/4-solid-stocks-gain-bitcoin-132000064.html'],\n",
       " ['BTC',\n",
       "  'We will update this page as soon as possible.',\n",
       "  'POSITIVE',\n",
       "  0.9566920399665833,\n",
       "  'https://finance.yahoo.com/video/bitcoin-rises-above-63-000-203629337.html'],\n",
       " ['BTC',\n",
       "  'We will update this page as soon as possible.',\n",
       "  'POSITIVE',\n",
       "  0.9566920399665833,\n",
       "  'https://finance.yahoo.com/video/hugh-hendry-bitcoin-triple-why-111300673.html'],\n",
       " ['BTC',\n",
       "  \"WazirX's native token WRX slumped 15% in dollar terms.\",\n",
       "  'NEGATIVE',\n",
       "  0.9996933937072754,\n",
       "  'https://finance.yahoo.com/news/wazirx-hack-sends-shib-wrx-094952828.html'],\n",
       " ['BTC',\n",
       "  'The The cryptocurrency hit a one-month high after hitting a record low on Friday.',\n",
       "  'NEGATIVE',\n",
       "  0.9984173774719238,\n",
       "  'https://finance.yahoo.com/news/bitcoin-tops-66k-cryptos-rally-174840410.html'],\n",
       " ['BTC',\n",
       "  'We will update this page as soon as possible.',\n",
       "  'POSITIVE',\n",
       "  0.9566920399665833,\n",
       "  'https://finance.yahoo.com/video/trump-backs-bitcoin-small-caps-220620606.html'],\n",
       " ['BTC',\n",
       "  'Your information may be shared with third parties.',\n",
       "  'NEGATIVE',\n",
       "  0.9903545379638672,\n",
       "  'https://www.google.com/search?q%3Dyahoo%2Bfinance%2BBTC%26tbm%3Dnws%26pccc%3D1']]"
      ]
     },
     "execution_count": 123,
     "metadata": {},
     "output_type": "execute_result"
    }
   ],
   "source": [
    "final_output = create_output_array(summaries, scores, cleaned_urls)\n",
    "final_output"
   ]
  },
  {
   "cell_type": "code",
   "execution_count": 124,
   "id": "b614f62e",
   "metadata": {},
   "outputs": [],
   "source": [
    "final_output.insert(0,['Ticker', 'Summary', 'Label', 'Confidence', 'URL'])"
   ]
  },
  {
   "cell_type": "code",
   "execution_count": 125,
   "id": "1afc122a",
   "metadata": {},
   "outputs": [
    {
     "data": {
      "text/plain": [
       "[['Ticker', 'Summary', 'Label', 'Confidence', 'URL'],\n",
       " ['GME',\n",
       "  'We will update this page as soon as possible.',\n",
       "  'POSITIVE',\n",
       "  0.9566920399665833,\n",
       "  'https://finance.yahoo.com/news/gamestops-gme-preliminary-results-highlight-160700244.html'],\n",
       " ['GME',\n",
       "  'We will update this page as soon as possible.',\n",
       "  'POSITIVE',\n",
       "  0.9566920399665833,\n",
       "  'https://finance.yahoo.com/news/why-gamestop-gme-stock-trading-153229310.html'],\n",
       " ['GME',\n",
       "  'We will update this page as soon as possible.',\n",
       "  'POSITIVE',\n",
       "  0.9566920399665833,\n",
       "  'https://finance.yahoo.com/news/gamestop-releases-q1-results-ahead-111604723.html'],\n",
       " ['GME',\n",
       "  'The stock is trading well below its 52-week high of $64.83. This sharp drop has left many investors questioning the future of GameStop',\n",
       "  'NEGATIVE',\n",
       "  0.998848557472229,\n",
       "  'https://finance.yahoo.com/news/gamestop-gme-down-13-month-124300979.html'],\n",
       " ['GME',\n",
       "  'Shares of the video game retailer have been moving higher in recent days.',\n",
       "  'POSITIVE',\n",
       "  0.9962789416313171,\n",
       "  'https://finance.yahoo.com/news/gamestop-gme-rises-higher-market-214519002.html'],\n",
       " ['GME',\n",
       "  'Your information may be shared with third parties.',\n",
       "  'NEGATIVE',\n",
       "  0.9903545379638672,\n",
       "  'https://www.google.com/search?q%3Dyahoo%2Bfinance%2BGME%26tbm%3Dnws%26pccc%3D1'],\n",
       " ['GME',\n",
       "  'Video game retailer’s stock has lost more than half its value in the past five years.',\n",
       "  'NEGATIVE',\n",
       "  0.9997506737709045,\n",
       "  'https://finance.yahoo.com/news/gamestop-should-ditch-retail-and-become-a-holding-company-like-warren-buffetts-berkshire-hathaway-133106692.html'],\n",
       " ['GME',\n",
       "  'We will update this page as soon as possible.',\n",
       "  'POSITIVE',\n",
       "  0.9566920399665833,\n",
       "  'https://finance.yahoo.com/news/why-gamestop-gme-shares-trading-162132483.html'],\n",
       " ['GME',\n",
       "  'We will update this page as soon as possible.',\n",
       "  'POSITIVE',\n",
       "  0.9566920399665833,\n",
       "  'https://finance.yahoo.com/news/gamestop-stock-nyse-gme-game-000228694.html'],\n",
       " ['GME',\n",
       "  'We will update this page as soon as possible.',\n",
       "  'POSITIVE',\n",
       "  0.9566920399665833,\n",
       "  'https://finance.yahoo.com/news/why-gamestop-gme-shares-trading-151315370.html'],\n",
       " ['GME',\n",
       "  'Shares of the video game retailer are up more than 20% this year.',\n",
       "  'POSITIVE',\n",
       "  0.9807196259498596,\n",
       "  'https://finance.yahoo.com/news/investors-heavily-search-gamestop-corp-130015751.html'],\n",
       " ['TSLA',\n",
       "  'We will update this page as soon as possible.',\n",
       "  'POSITIVE',\n",
       "  0.9566920399665833,\n",
       "  'https://finance.yahoo.com/news/live/stock-market-today-stocks-fall-from-records-as-tesla-nvidia-lead-tech-sell-off-200114295.html'],\n",
       " ['TSLA',\n",
       "  'Shares set to extend gains on Wednesday. Tesla reported record vehicle deliveries in its first quarter',\n",
       "  'POSITIVE',\n",
       "  0.9392716884613037,\n",
       "  'https://finance.yahoo.com/news/tesla-stock-surges-as-quarterly-vehicle-deliveries-beat-wall-street-estimates-201123452.html'],\n",
       " ['TSLA',\n",
       "  'Your information may be shared with third parties.',\n",
       "  'NEGATIVE',\n",
       "  0.9903545379638672,\n",
       "  'https://www.google.com/search?q%3Dyahoo%2Bfinance%2BTSLA%26tbm%3Dnws%26pccc%3D1'],\n",
       " ['TSLA',\n",
       "  'Musk’s commitment to expanding Tesla’s EV lineup has kept it on track.',\n",
       "  'POSITIVE',\n",
       "  0.9993440508842468,\n",
       "  'https://finance.yahoo.com/news/tesla-stock-nasdaq-tsla-comeback-010835403.html'],\n",
       " ['TSLA',\n",
       "  'Tesla is 4th on Cramer’s list of top 10 stocks.',\n",
       "  'POSITIVE',\n",
       "  0.9767380356788635,\n",
       "  'https://finance.yahoo.com/news/jim-cramer-tesla-inc-nasdaq-120919586.html'],\n",
       " ['TSLA',\n",
       "  'Return on equity (ROE) is one of the most important financial indicators.',\n",
       "  'POSITIVE',\n",
       "  0.9954968690872192,\n",
       "  'https://finance.yahoo.com/news/tesla-inc-nasdaq-tsla-stocks-130014699.html'],\n",
       " ['TSLA',\n",
       "  'Carmaker’s self-drive platform to be a ‘game-changer,’ Wood says. Shares to rise as much as 10-fold, she says',\n",
       "  'POSITIVE',\n",
       "  0.9938702583312988,\n",
       "  'https://finance.yahoo.com/news/tesla-stock-surge-10-fold-000001701.html'],\n",
       " ['TSLA',\n",
       "  'Shares of the electric carmaker have been on a roll in recent weeks.',\n",
       "  'POSITIVE',\n",
       "  0.9986897110939026,\n",
       "  'https://finance.yahoo.com/news/tesla-stock-notches-9th-straight-day-of-gains-201451600.html'],\n",
       " ['TSLA',\n",
       "  'We will update this page as soon as possible.',\n",
       "  'POSITIVE',\n",
       "  0.9566920399665833,\n",
       "  'https://finance.yahoo.com/video/tesla-investors-shouldnt-fret-robotaxi-214539400.html'],\n",
       " ['TSLA',\n",
       "  'A look back at some of the quirkier snippets from the news in recent times',\n",
       "  'POSITIVE',\n",
       "  0.9971897006034851,\n",
       "  'https://finance.yahoo.com/news/teslas-valuation-is-turning-heads-chart-of-the-week-100642187.html'],\n",
       " ['TSLA',\n",
       "  'I’m still neutral on the electric-car maker, but valuations are hard to justify.',\n",
       "  'NEGATIVE',\n",
       "  0.9973223805427551,\n",
       "  'https://finance.yahoo.com/news/behind-tesla-stock-nasdaq-tsla-073001274.html'],\n",
       " ['BTC',\n",
       "  'A look back at some of the quirkier snippets from the news in recent times',\n",
       "  'POSITIVE',\n",
       "  0.9971897006034851,\n",
       "  'https://finance.yahoo.com/news/bitcoin-cements-legitimate-status-as-wall-street-struggles-toward-a-new-consensus-morning-brief-100008050.html'],\n",
       " ['BTC',\n",
       "  'First Mover takes a look at the latest moves in crypto markets.',\n",
       "  'POSITIVE',\n",
       "  0.983063280582428,\n",
       "  'https://finance.yahoo.com/news/first-mover-americas-bitcoin-trades-120206485.html'],\n",
       " ['BTC',\n",
       "  'Surging interest in Bitcoin futures has also boosted prices.',\n",
       "  'POSITIVE',\n",
       "  0.9992666840553284,\n",
       "  'https://finance.yahoo.com/news/bitcoin-may-target-71-500-060059796.html'],\n",
       " ['BTC',\n",
       "  'A profitable crypto address has made a fresh investment in BTC.',\n",
       "  'POSITIVE',\n",
       "  0.9993797540664673,\n",
       "  'https://finance.yahoo.com/news/profit-making-crypto-address-makes-062000734.html'],\n",
       " ['BTC',\n",
       "  'Markets have been volatile since the beginning of the year. Bitcoin (BTC) has been in focus as the world’s most popular cryptocurrency witnessed an unprecedented rise',\n",
       "  'POSITIVE',\n",
       "  0.9951992630958557,\n",
       "  'https://finance.yahoo.com/news/4-solid-stocks-gain-bitcoin-132000064.html'],\n",
       " ['BTC',\n",
       "  'We will update this page as soon as possible.',\n",
       "  'POSITIVE',\n",
       "  0.9566920399665833,\n",
       "  'https://finance.yahoo.com/video/bitcoin-rises-above-63-000-203629337.html'],\n",
       " ['BTC',\n",
       "  'We will update this page as soon as possible.',\n",
       "  'POSITIVE',\n",
       "  0.9566920399665833,\n",
       "  'https://finance.yahoo.com/video/hugh-hendry-bitcoin-triple-why-111300673.html'],\n",
       " ['BTC',\n",
       "  \"WazirX's native token WRX slumped 15% in dollar terms.\",\n",
       "  'NEGATIVE',\n",
       "  0.9996933937072754,\n",
       "  'https://finance.yahoo.com/news/wazirx-hack-sends-shib-wrx-094952828.html'],\n",
       " ['BTC',\n",
       "  'The The cryptocurrency hit a one-month high after hitting a record low on Friday.',\n",
       "  'NEGATIVE',\n",
       "  0.9984173774719238,\n",
       "  'https://finance.yahoo.com/news/bitcoin-tops-66k-cryptos-rally-174840410.html'],\n",
       " ['BTC',\n",
       "  'We will update this page as soon as possible.',\n",
       "  'POSITIVE',\n",
       "  0.9566920399665833,\n",
       "  'https://finance.yahoo.com/video/trump-backs-bitcoin-small-caps-220620606.html'],\n",
       " ['BTC',\n",
       "  'Your information may be shared with third parties.',\n",
       "  'NEGATIVE',\n",
       "  0.9903545379638672,\n",
       "  'https://www.google.com/search?q%3Dyahoo%2Bfinance%2BBTC%26tbm%3Dnws%26pccc%3D1']]"
      ]
     },
     "execution_count": 125,
     "metadata": {},
     "output_type": "execute_result"
    }
   ],
   "source": [
    "final_output"
   ]
  },
  {
   "cell_type": "code",
   "execution_count": 126,
   "id": "5c7142c6",
   "metadata": {},
   "outputs": [],
   "source": [
    "import csv\n",
    "with open('assetsummaries.csv', mode='w', newline='', encoding='utf-8') as f:\n",
    "    csv_writer = csv.writer(f, delimiter=',', quotechar='\"', quoting=csv.QUOTE_MINIMAL)\n",
    "    csv_writer.writerows(final_output)"
   ]
  },
  {
   "cell_type": "code",
   "execution_count": null,
   "id": "95ad99e9",
   "metadata": {},
   "outputs": [],
   "source": []
  }
 ],
 "metadata": {
  "kernelspec": {
   "display_name": "Python 3 (ipykernel)",
   "language": "python",
   "name": "python3"
  },
  "language_info": {
   "codemirror_mode": {
    "name": "ipython",
    "version": 3
   },
   "file_extension": ".py",
   "mimetype": "text/x-python",
   "name": "python",
   "nbconvert_exporter": "python",
   "pygments_lexer": "ipython3",
   "version": "3.11.5"
  }
 },
 "nbformat": 4,
 "nbformat_minor": 5
}
